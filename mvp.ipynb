{
 "cells": [
  {
   "cell_type": "markdown",
   "metadata": {},
   "source": [
    "Делаем только для аннотации, поэтому используем scmap-cluster, берем из атласа и херачим на эксперимент"
   ]
  },
  {
   "cell_type": "code",
   "execution_count": 2,
   "metadata": {},
   "outputs": [
    {
     "name": "stderr",
     "output_type": "stream",
     "text": [
      "Loading required package: SummarizedExperiment\n",
      "Loading required package: GenomicRanges\n",
      "Loading required package: stats4\n",
      "Loading required package: BiocGenerics\n",
      "Loading required package: parallel\n",
      "\n",
      "Attaching package: ‘BiocGenerics’\n",
      "\n",
      "The following objects are masked from ‘package:parallel’:\n",
      "\n",
      "    clusterApply, clusterApplyLB, clusterCall, clusterEvalQ,\n",
      "    clusterExport, clusterMap, parApply, parCapply, parLapply,\n",
      "    parLapplyLB, parRapply, parSapply, parSapplyLB\n",
      "\n",
      "The following objects are masked from ‘package:stats’:\n",
      "\n",
      "    IQR, mad, sd, var, xtabs\n",
      "\n",
      "The following objects are masked from ‘package:base’:\n",
      "\n",
      "    anyDuplicated, append, as.data.frame, basename, cbind, colMeans,\n",
      "    colnames, colSums, dirname, do.call, duplicated, eval, evalq,\n",
      "    Filter, Find, get, grep, grepl, intersect, is.unsorted, lapply,\n",
      "    lengths, Map, mapply, match, mget, order, paste, pmax, pmax.int,\n",
      "    pmin, pmin.int, Position, rank, rbind, Reduce, rowMeans, rownames,\n",
      "    rowSums, sapply, setdiff, sort, table, tapply, union, unique,\n",
      "    unsplit, which, which.max, which.min\n",
      "\n",
      "Loading required package: S4Vectors\n",
      "\n",
      "Attaching package: ‘S4Vectors’\n",
      "\n",
      "The following object is masked from ‘package:base’:\n",
      "\n",
      "    expand.grid\n",
      "\n",
      "Loading required package: IRanges\n",
      "Loading required package: GenomeInfoDb\n",
      "Loading required package: Biobase\n",
      "Welcome to Bioconductor\n",
      "\n",
      "    Vignettes contain introductory material; view with\n",
      "    'browseVignettes()'. To cite Bioconductor, see\n",
      "    'citation(\"Biobase\")', and for packages 'citation(\"pkgname\")'.\n",
      "\n",
      "Loading required package: DelayedArray\n",
      "Loading required package: matrixStats\n",
      "\n",
      "Attaching package: ‘matrixStats’\n",
      "\n",
      "The following objects are masked from ‘package:Biobase’:\n",
      "\n",
      "    anyMissing, rowMedians\n",
      "\n",
      "Loading required package: BiocParallel\n",
      "\n",
      "Attaching package: ‘DelayedArray’\n",
      "\n",
      "The following objects are masked from ‘package:matrixStats’:\n",
      "\n",
      "    colMaxs, colMins, colRanges, rowMaxs, rowMins, rowRanges\n",
      "\n",
      "The following objects are masked from ‘package:base’:\n",
      "\n",
      "    aperm, apply\n",
      "\n",
      "Creating a generic function for ‘toJSON’ from package ‘jsonlite’ in package ‘googleVis’\n"
     ]
    }
   ],
   "source": [
    "library(SingleCellExperiment)\n",
    "library(scmap)"
   ]
  },
  {
   "cell_type": "code",
   "execution_count": 56,
   "metadata": {
    "scrolled": false
   },
   "outputs": [
    {
     "data": {
      "text/html": [
       "<table>\n",
       "<thead><tr><th></th><th scope=col>cell_1</th><th scope=col>cell_2</th><th scope=col>cell_3</th><th scope=col>cell_4</th><th scope=col>cell_5</th></tr></thead>\n",
       "<tbody>\n",
       "\t<tr><th scope=row>Xkr4</th><td>0       </td><td>0       </td><td>0.000000</td><td>0       </td><td>0       </td></tr>\n",
       "\t<tr><th scope=row>Gm1992</th><td>0       </td><td>0       </td><td>0.000000</td><td>0       </td><td>0       </td></tr>\n",
       "\t<tr><th scope=row>Gm37381</th><td>0       </td><td>0       </td><td>0.000000</td><td>0       </td><td>0       </td></tr>\n",
       "\t<tr><th scope=row>Rp1</th><td>0       </td><td>0       </td><td>0.000000</td><td>0       </td><td>0       </td></tr>\n",
       "\t<tr><th scope=row>Sox17</th><td>0       </td><td>0       </td><td>3.302669</td><td>0       </td><td>0       </td></tr>\n",
       "</tbody>\n",
       "</table>\n"
      ],
      "text/latex": [
       "\\begin{tabular}{r|lllll}\n",
       "  & cell\\_1 & cell\\_2 & cell\\_3 & cell\\_4 & cell\\_5\\\\\n",
       "\\hline\n",
       "\tXkr4 & 0        & 0        & 0.000000 & 0        & 0       \\\\\n",
       "\tGm1992 & 0        & 0        & 0.000000 & 0        & 0       \\\\\n",
       "\tGm37381 & 0        & 0        & 0.000000 & 0        & 0       \\\\\n",
       "\tRp1 & 0        & 0        & 0.000000 & 0        & 0       \\\\\n",
       "\tSox17 & 0        & 0        & 3.302669 & 0        & 0       \\\\\n",
       "\\end{tabular}\n"
      ],
      "text/markdown": [
       "\n",
       "| <!--/--> | cell_1 | cell_2 | cell_3 | cell_4 | cell_5 | \n",
       "|---|---|---|---|---|\n",
       "| Xkr4 | 0        | 0        | 0.000000 | 0        | 0        | \n",
       "| Gm1992 | 0        | 0        | 0.000000 | 0        | 0        | \n",
       "| Gm37381 | 0        | 0        | 0.000000 | 0        | 0        | \n",
       "| Rp1 | 0        | 0        | 0.000000 | 0        | 0        | \n",
       "| Sox17 | 0        | 0        | 3.302669 | 0        | 0        | \n",
       "\n",
       "\n"
      ],
      "text/plain": [
       "        cell_1 cell_2 cell_3   cell_4 cell_5\n",
       "Xkr4    0      0      0.000000 0      0     \n",
       "Gm1992  0      0      0.000000 0      0     \n",
       "Gm37381 0      0      0.000000 0      0     \n",
       "Rp1     0      0      0.000000 0      0     \n",
       "Sox17   0      0      3.302669 0      0     "
      ]
     },
     "metadata": {},
     "output_type": "display_data"
    }
   ],
   "source": [
    "atlas = read.delim(\"/home/churkreev_group/vyatkin/data/E_65_85/EmbryoTimecourse2018/download/atlas_E_65/counts_E_65.tsv\")\n",
    "atlas[1:5,1:5]"
   ]
  },
  {
   "cell_type": "code",
   "execution_count": 57,
   "metadata": {
    "scrolled": false
   },
   "outputs": [
    {
     "data": {
      "text/html": [
       "<table>\n",
       "<thead><tr><th scope=col>cell</th><th scope=col>celltype</th></tr></thead>\n",
       "<tbody>\n",
       "\t<tr><td>cell_1          </td><td>Epiblast        </td></tr>\n",
       "\t<tr><td>cell_2          </td><td>Primitive Streak</td></tr>\n",
       "\t<tr><td>cell_3          </td><td>NA              </td></tr>\n",
       "\t<tr><td>cell_4          </td><td>NA              </td></tr>\n",
       "\t<tr><td>cell_5          </td><td>ExE ectoderm    </td></tr>\n",
       "\t<tr><td>cell_6          </td><td>Epiblast        </td></tr>\n",
       "</tbody>\n",
       "</table>\n"
      ],
      "text/latex": [
       "\\begin{tabular}{r|ll}\n",
       " cell & celltype\\\\\n",
       "\\hline\n",
       "\t cell\\_1         & Epiblast        \\\\\n",
       "\t cell\\_2         & Primitive Streak\\\\\n",
       "\t cell\\_3         & NA              \\\\\n",
       "\t cell\\_4         & NA              \\\\\n",
       "\t cell\\_5         & ExE ectoderm    \\\\\n",
       "\t cell\\_6         & Epiblast        \\\\\n",
       "\\end{tabular}\n"
      ],
      "text/markdown": [
       "\n",
       "cell | celltype | \n",
       "|---|---|---|---|---|---|\n",
       "| cell_1           | Epiblast         | \n",
       "| cell_2           | Primitive Streak | \n",
       "| cell_3           | NA               | \n",
       "| cell_4           | NA               | \n",
       "| cell_5           | ExE ectoderm     | \n",
       "| cell_6           | Epiblast         | \n",
       "\n",
       "\n"
      ],
      "text/plain": [
       "  cell   celltype        \n",
       "1 cell_1 Epiblast        \n",
       "2 cell_2 Primitive Streak\n",
       "3 cell_3 NA              \n",
       "4 cell_4 NA              \n",
       "5 cell_5 ExE ectoderm    \n",
       "6 cell_6 Epiblast        "
      ]
     },
     "metadata": {},
     "output_type": "display_data"
    }
   ],
   "source": [
    "annotation = read.delim(\"/home/churkreev_group/vyatkin/data/E_65_85/EmbryoTimecourse2018/download/atlas/meta.tab\")\n",
    "annotation = annotation[c('cell', 'celltype')]"
   ]
  },
  {
   "cell_type": "code",
   "execution_count": 64,
   "metadata": {},
   "outputs": [],
   "source": [
    "annotation = annotation[annotation$cell %in% colnames(atlas), ]"
   ]
  },
  {
   "cell_type": "code",
   "execution_count": 91,
   "metadata": {},
   "outputs": [],
   "source": [
    "sce_atlas <- SingleCellExperiment(assays = list(logcounts = as.matrix(atlas)), colData = annotation)\n",
    "\n",
    "# use gene names as feature symbols\n",
    "rowData(sce_atlas)$feature_symbol <- rownames(sce_atlas)\n",
    "# remove features with duplicated names\n",
    "sce_atlas <- sce_atlas[!duplicated(rownames(sce_atlas)), ]"
   ]
  },
  {
   "cell_type": "code",
   "execution_count": 114,
   "metadata": {},
   "outputs": [
    {
     "name": "stderr",
     "output_type": "stream",
     "text": [
      "Warning message in linearModel(object, n_features):\n",
      "“Your object does not contain counts() slot. Dropouts were calculated using logcounts() slot...”"
     ]
    }
   ],
   "source": [
    "sce_atlas <- selectFeatures(sce_atlas, suppress_plot = TRUE)"
   ]
  },
  {
   "cell_type": "code",
   "execution_count": 93,
   "metadata": {
    "scrolled": true
   },
   "outputs": [
    {
     "data": {
      "text/plain": [
       "\n",
       "FALSE  TRUE \n",
       "28952   500 "
      ]
     },
     "metadata": {},
     "output_type": "display_data"
    }
   ],
   "source": [
    "table(rowData(sce_atlas)$scmap_features)"
   ]
  },
  {
   "cell_type": "markdown",
   "metadata": {},
   "source": [
    "# functions"
   ]
  },
  {
   "cell_type": "code",
   "execution_count": 9,
   "metadata": {},
   "outputs": [],
   "source": [
    "prepare_annotation <- function(atlas_annotation_path, atlas){\n",
    "    annotation = read.delim(atlas_annotation_path)\n",
    "    annotation = annotation[c('cell', 'celltype')]\n",
    "    annotation = annotation[annotation$cell %in% colnames(atlas), ]\n",
    "    \n",
    "    return(annotation)\n",
    "}\n",
    "\n",
    "\n",
    "prepare_atlas <- function(atlas_path, atlas_annotation_path){\n",
    "    atlas = read.delim(atlas_path)\n",
    "   \n",
    "    sce_atlas <- SingleCellExperiment(assays = list(logcounts = as.matrix(atlas)), colData = prepare_annotation(atlas_annotation_path, atlas))\n",
    "\n",
    "    # use gene names as feature symbols\n",
    "    rowData(sce_atlas)$feature_symbol <- rownames(sce_atlas)\n",
    "    # remove features with duplicated names\n",
    "    sce_atlas <- sce_atlas[!duplicated(rownames(sce_atlas)), ]\n",
    "    sce_atlas <- selectFeatures(sce_atlas, suppress_plot = TRUE)\n",
    "    \n",
    "    sce_atlas <- indexCluster(sce_atlas, cluster_col = \"celltype\")\n",
    "    \n",
    "    return(sce_atlas)\n",
    "}\n",
    "\n",
    "\n",
    "prepare_experiment <- function(experiment_path, separator){\n",
    "    experiment = read.delim(experiment_path, row.names=1, sep=separator)\n",
    "    nams = sub(\"_.*\",\"\",rownames(experiment))\n",
    "    rownames(experiment) = make.names(nams,unique = T)\n",
    "    \n",
    "    sce_experiment <- SingleCellExperiment(assays = list(logcounts = as.matrix(experiment)))\n",
    "\n",
    "    # use gene names as feature symbols\n",
    "    rowData(sce_experiment)$feature_symbol <- rownames(sce_experiment)\n",
    "    # remove features with duplicated names\n",
    "    sce_experiment <- sce_experiment[!duplicated(rownames(sce_experiment)), ]\n",
    "    sce_experiment <- selectFeatures(sce_experiment, suppress_plot = TRUE)\n",
    "    \n",
    "    return(sce_experiment)\n",
    "}"
   ]
  },
  {
   "cell_type": "code",
   "execution_count": 121,
   "metadata": {
    "collapsed": true
   },
   "outputs": [
    {
     "name": "stderr",
     "output_type": "stream",
     "text": [
      "Warning message in linearModel(object, n_features):\n",
      "“Your object does not contain counts() slot. Dropouts were calculated using logcounts() slot...”Warning message in linearModel(object, n_features):\n",
      "“Your object does not contain counts() slot. Dropouts were calculated using logcounts() slot...”Warning message in setFeatures(projection, rownames(index)):\n",
      "“Features 1010001N08Rik, 1700001D01Rik, 1700007F19Rik, 1700007K09Rik, 1700013F07Rik, 1700029E06Rik, 1700057H15Rik, 2210011C24Rik, 2610020F03Rik, 3830432H09Rik, 4922502D21Rik, 4930434B07Rik, 4930477E14Rik, 4930505N22Rik, 4930533D04Rik, 4930538E20Rik, 4930558N11Rik, 4930578M01Rik, 4933427E11Rik, 4933431M02Rik, 5830416I19Rik, 6030466F02Rik, 6330403N20Rik, 9330175M20Rik, AC102435.3, AC113508.1, AC131684.1, AC131777.2, AC132085.1, AC133083.2, AC149586.1, AC153556.3, AC155709.2, AC160121.1, AC160146.1, AC160409.1, AC160562.1, Adgb, AI839979, AL603745.3, Amer3, Ankub1, Axdnd1, Bex1, Bex3, Bex4, C1s2, C230079O03Rik, Ccdc182, Cfap58, Chia1, Cited1, CT025619.2, Dnah17, DXBay18, Esp6, Frmd8os, Frmpd2, Galnt15, Gm16619, Gm2093, Gm21975, Gm26602, Gm26603, Gm26606, Gm26684, Gm26715, Gm26739, Gm26773, Gm26792, Gm26860, Gm26896, Gm27253, Gm28151, Gm28198, Gm28501, Gm28502, Gm28626, Gm28875, Gm29323, Gm29362, Gm30191, Gm34106, Gm35256, Gm35549, Gm37336, Gm3764, Gm37662, Gm37854, Gm37867, Gm38251, Gm42749, Gm42878, Gm42901, Gm43400, Gm43915, Gm44205, Gm44386, Gm44592, Gm44751, Gm44864, Gm44915, Gm45168, Gm45287, Gm45437, Gm45519, Gm45601, Gm45709, Gm5039, Gm7967, H2-DMb2, Hbb-bh1, Hnf4aos, Ifi209, Ifitm10, Kif16bos, Lamp5, Lhfpl1, Mcemp1, Mid2, Morc4, mt-Atp6, mt-Co1, mt-Co2, mt-Co3, mt-Cytb, mt-Nd1, mt-Nd4, Nat8f2, Nkx6-3, Nup62cl, Olfr160, Pclaf, Pgk1, Plac1, Plet1, Plxnb3, Prox1os, Rhox5, Rnf128, Rpl10, Rpl39, Rsph14, Slc25a5, Slc7a3, Slitrk2, Smco2, Smim6, Smlr1, Spink1, Tbx3os2, Tceal8, Tceal9, Tmlhe, Trap1a, Usp17le, Usp46os1, Xist are not present in the 'SCESet' object and therefore were not set.”"
     ]
    }
   ],
   "source": [
    "sce_atlas = prepare_atlas(\"/home/churkreev_group/vyatkin/data/E_65_85/EmbryoTimecourse2018/download/atlas_E_65/counts_E_65.tsv\",\n",
    "             \"/home/churkreev_group/vyatkin/data/E_65_85/EmbryoTimecourse2018/download/atlas/meta.tab\")\n",
    "\n",
    "sce_experiment = prepare_experiment(\"/home/churkreev_group/data_E3.5_to_E6.5/GSE100597_count_table_QC_filtered.txt\")\n",
    "\n",
    "scmapCluster_results <- scmapCluster(\n",
    "  projection = sce_experiment, \n",
    "  index_list = list(\n",
    "    sce_atlas = metadata(sce_atlas)$scmap_cluster_index\n",
    "  )\n",
    ")"
   ]
  },
  {
   "cell_type": "code",
   "execution_count": 122,
   "metadata": {
    "scrolled": true
   },
   "outputs": [
    {
     "data": {
      "text/plain": [
       "\n",
       "            Epiblast         ExE ectoderm         ExE endoderm \n",
       "                  26                    4                   21 \n",
       "                  NA    Parietal endoderm     Primitive Streak \n",
       "                   7                   35                   62 \n",
       "Rostral neurectoderm           unassigned    Visceral endoderm \n",
       "                  35                  498                   33 "
      ]
     },
     "metadata": {},
     "output_type": "display_data"
    }
   ],
   "source": [
    "table(scmapCluster_results$scmap_cluster_labs)"
   ]
  },
  {
   "cell_type": "markdown",
   "metadata": {},
   "source": [
    "# 6_5"
   ]
  },
  {
   "cell_type": "code",
   "execution_count": 21,
   "metadata": {},
   "outputs": [
    {
     "name": "stderr",
     "output_type": "stream",
     "text": [
      "Warning message in linearModel(object, n_features):\n",
      "“Your object does not contain counts() slot. Dropouts were calculated using logcounts() slot...”"
     ]
    }
   ],
   "source": [
    "sce_atlas = prepare_atlas(\"/home/churkreev_group/chukreev/batch_effect/atlas_6_5_corrected.tsv\",\n",
    "             \"/home/churkreev_group/vyatkin/data/E_65_85/EmbryoTimecourse2018/download/atlas/meta.tab\")\n"
   ]
  },
  {
   "cell_type": "code",
   "execution_count": 22,
   "metadata": {},
   "outputs": [
    {
     "name": "stderr",
     "output_type": "stream",
     "text": [
      "Warning message in linearModel(object, n_features):\n",
      "“Your object does not contain counts() slot. Dropouts were calculated using logcounts() slot...”"
     ]
    }
   ],
   "source": [
    "sce_experiment = prepare_experiment(\"/home/churkreev_group/chukreev/batch_effect/experiment_6_5_corrected.tsv\", separator = '\\t')"
   ]
  },
  {
   "cell_type": "code",
   "execution_count": 23,
   "metadata": {},
   "outputs": [],
   "source": [
    "scmapCluster_results <- scmapCluster(\n",
    "  projection = sce_experiment, \n",
    "  index_list = list(\n",
    "    sce_atlas = metadata(sce_atlas)$scmap_cluster_index\n",
    "  )\n",
    ")"
   ]
  },
  {
   "cell_type": "code",
   "execution_count": 24,
   "metadata": {},
   "outputs": [
    {
     "data": {
      "text/plain": [
       "\n",
       "     ExE ectoderm      ExE endoderm Visceral endoderm \n",
       "              127                 1                39 "
      ]
     },
     "metadata": {},
     "output_type": "display_data"
    }
   ],
   "source": [
    "table(scmapCluster_results$scmap_cluster_labs)"
   ]
  },
  {
   "cell_type": "code",
   "execution_count": 32,
   "metadata": {
    "scrolled": true
   },
   "outputs": [],
   "source": [
    "write.csv(scmapCluster_results$scmap_cluster_labs, file='/home/churkreev_group/chukreev/batch_effect/cluster_annotation.txt')"
   ]
  },
  {
   "cell_type": "markdown",
   "metadata": {},
   "source": [
    "# 7_5"
   ]
  },
  {
   "cell_type": "code",
   "execution_count": 16,
   "metadata": {},
   "outputs": [
    {
     "name": "stderr",
     "output_type": "stream",
     "text": [
      "Warning message in linearModel(object, n_features):\n",
      "“Your object does not contain counts() slot. Dropouts were calculated using logcounts() slot...”"
     ]
    }
   ],
   "source": [
    "sce_atlas = prepare_atlas(\"/home/churkreev_group/chukreev/batch_effect/atlas_725_corrected.tsv\",\n",
    "             \"/home/churkreev_group/vyatkin/data/E_65_85/EmbryoTimecourse2018/download/atlas/meta.tab\")\n"
   ]
  },
  {
   "cell_type": "code",
   "execution_count": 19,
   "metadata": {},
   "outputs": [
    {
     "name": "stderr",
     "output_type": "stream",
     "text": [
      "Warning message in linearModel(object, n_features):\n",
      "“Your object does not contain counts() slot. Dropouts were calculated using logcounts() slot...”"
     ]
    },
    {
     "ename": "ERROR",
     "evalue": "Error in lm.fit(x, y, offset = offset, singular.ok = singular.ok, ...): 0 (non-NA) cases\n",
     "output_type": "error",
     "traceback": [
      "Error in lm.fit(x, y, offset = offset, singular.ok = singular.ok, ...): 0 (non-NA) cases\nTraceback:\n",
      "1. prepare_experiment(\"/home/churkreev_group/chukreev/batch_effect/experiment_725_corrected.tsv_imputed\", \n .     separator = \"\\t\")",
      "2. selectFeatures(sce_experiment, suppress_plot = TRUE)   # at line 38 of file <text>",
      "3. selectFeatures(sce_experiment, suppress_plot = TRUE)",
      "4. linearModel(object, n_features)",
      "5. lm(dropouts ~ expression)",
      "6. lm.fit(x, y, offset = offset, singular.ok = singular.ok, ...)",
      "7. stop(\"0 (non-NA) cases\")"
     ]
    }
   ],
   "source": [
    "sce_experiment = prepare_experiment(\"/home/churkreev_group/chukreev/batch_effect/experiment_725_corrected.tsv_imputed\", separator = '\\t')\n",
    "\n"
   ]
  },
  {
   "cell_type": "code",
   "execution_count": null,
   "metadata": {},
   "outputs": [],
   "source": [
    "scmapCluster_results <- scmapCluster(\n",
    "  projection = sce_experiment, \n",
    "  index_list = list(\n",
    "    sce_atlas = metadata(sce_atlas)$scmap_cluster_index\n",
    "  )\n",
    ")\n",
    "table(scmapCluster_results$scmap_cluster_labs)"
   ]
  },
  {
   "cell_type": "code",
   "execution_count": null,
   "metadata": {},
   "outputs": [],
   "source": []
  },
  {
   "cell_type": "markdown",
   "metadata": {},
   "source": [
    "# 6_5 леша"
   ]
  },
  {
   "cell_type": "code",
   "execution_count": null,
   "metadata": {},
   "outputs": [],
   "source": []
  }
 ],
 "metadata": {
  "kernelspec": {
   "display_name": "R",
   "language": "R",
   "name": "ir"
  }
 },
 "nbformat": 4,
 "nbformat_minor": 2
}
