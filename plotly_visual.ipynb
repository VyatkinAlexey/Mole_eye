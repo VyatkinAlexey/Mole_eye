{
 "cells": [
  {
   "cell_type": "code",
   "execution_count": 296,
   "metadata": {},
   "outputs": [],
   "source": [
    "from plotly import __version__\n",
    "from plotly.offline import download_plotlyjs, init_notebook_mode, plot, iplot\n",
    "from plotly.graph_objs import *\n",
    "import pandas as pd\n",
    "import umap\n",
    "import plotly as py\n",
    "import matplotlib.pyplot as plt\n",
    "import numpy as np"
   ]
  },
  {
   "cell_type": "code",
   "execution_count": 191,
   "metadata": {},
   "outputs": [],
   "source": [
    "df1 = pd.read_csv(ref6,sep='\\t',index_col=0)\n",
    "df2 = pd.read_csv(exp6,sep='\\t',index_col=0)"
   ]
  },
  {
   "cell_type": "code",
   "execution_count": 186,
   "metadata": {},
   "outputs": [
    {
     "data": {
      "text/plain": [
       "(167, 11037)"
      ]
     },
     "execution_count": 186,
     "metadata": {},
     "output_type": "execute_result"
    }
   ],
   "source": [
    "df2.shape\n",
    "df1.shape"
   ]
  },
  {
   "cell_type": "code",
   "execution_count": 227,
   "metadata": {},
   "outputs": [],
   "source": [
    "labels = pd.read_csv(file2,sep=',',index_col=0)"
   ]
  },
  {
   "cell_type": "code",
   "execution_count": 229,
   "metadata": {},
   "outputs": [],
   "source": [
    "cord = out2"
   ]
  },
  {
   "cell_type": "code",
   "execution_count": 231,
   "metadata": {},
   "outputs": [],
   "source": [
    "cord.index = labels.index\n",
    "bb = pd.concat([cord, labels], axis=1, sort=False)\n",
    "bb.columns = ['X','Y','clasters']"
   ]
  },
  {
   "cell_type": "code",
   "execution_count": 277,
   "metadata": {},
   "outputs": [],
   "source": [
    "#bb"
   ]
  },
  {
   "cell_type": "code",
   "execution_count": 199,
   "metadata": {},
   "outputs": [
    {
     "name": "stderr",
     "output_type": "stream",
     "text": [
      "/opt/anaconda/lib/python3.7/site-packages/umap/spectral.py:229: UserWarning:\n",
      "\n",
      "Embedding a total of 3 separate connected components using meta-embedding (experimental)\n",
      "\n"
     ]
    }
   ],
   "source": [
    "df = umap.UMAP(n_neighbors=5, min_dist=0.3, metric='correlation').fit_transform(df)\n",
    "df = pd.DataFrame(df)\n",
    "out1 = df.iloc[:shape1[0]]\n",
    "out2 = df.iloc[shape1[0]:]\n"
   ]
  },
  {
   "cell_type": "code",
   "execution_count": 236,
   "metadata": {},
   "outputs": [],
   "source": [
    "bb.to_csv(\"/home/churkreev_group/exp_data/6_5/mapped_and_annotated.csv\")\n",
    "#bb"
   ]
  },
  {
   "cell_type": "code",
   "execution_count": 278,
   "metadata": {},
   "outputs": [],
   "source": [
    "#out1"
   ]
  },
  {
   "cell_type": "code",
   "execution_count": null,
   "metadata": {},
   "outputs": [],
   "source": []
  },
  {
   "cell_type": "code",
   "execution_count": null,
   "metadata": {},
   "outputs": [],
   "source": []
  },
  {
   "cell_type": "code",
   "execution_count": 289,
   "metadata": {},
   "outputs": [
    {
     "data": {
      "text/plain": [
       "'file:///home/churkreev_group/acheblokov/temp-plot.html'"
      ]
     },
     "execution_count": 289,
     "metadata": {},
     "output_type": "execute_result"
    }
   ],
   "source": [
    "plot([Scatter(x=out1.X, y=out1.Y,\n",
    "              mode=\"markers\",marker=Marker(color=\"yellow\",\n",
    "                                           size=15, opacity=0.5)),\n",
    "              Scatter(x=out2.X, y=out2.Y,\n",
    "              mode=\"markers\",marker=Marker(color=\"black\",\n",
    "                                           size=10, opacity=0.5))], \n",
    "     show_link=False) "
   ]
  },
  {
   "cell_type": "code",
   "execution_count": null,
   "metadata": {},
   "outputs": [],
   "source": []
  },
  {
   "cell_type": "code",
   "execution_count": null,
   "metadata": {},
   "outputs": [],
   "source": []
  },
  {
   "cell_type": "code",
   "execution_count": null,
   "metadata": {},
   "outputs": [],
   "source": [
    "plot([Scatter(x=bb.X, y=bb.Y,text=bb.clasters,\n",
    "              mode=\"markers\",marker=Marker(color=bb.clasters,\n",
    "                                           size=15, opacity=0.5)),\n",
    "              Scatter(x=W.X, y=W.Y,text=W.clasters,\n",
    "              mode=\"markers\",marker=Marker(color=\"blue\",\n",
    "                                           size=10, opacity=0.5))], \n",
    "     show_link=False) "
   ]
  },
  {
   "cell_type": "code",
   "execution_count": 304,
   "metadata": {},
   "outputs": [],
   "source": [
    "col = to_numbers(bb.clasters,5)\n"
   ]
  },
  {
   "cell_type": "code",
   "execution_count": 303,
   "metadata": {},
   "outputs": [],
   "source": [
    "col2 = to_numbers(yh.clasters, 15)"
   ]
  },
  {
   "cell_type": "code",
   "execution_count": 305,
   "metadata": {},
   "outputs": [
    {
     "data": {
      "text/plain": [
       "'file:///home/churkreev_group/acheblokov/temp-plot.html'"
      ]
     },
     "execution_count": 305,
     "metadata": {},
     "output_type": "execute_result"
    }
   ],
   "source": [
    "plot([Scatter(x=bb.X, y=bb.Y,text=bb.clasters,\n",
    "              mode=\"markers\",marker=Marker(color=col ,size=15, opacity=0.5)),\n",
    "     Scatter(x=yh.X, y=yh.Y,text=yh.clasters,\n",
    "              mode=\"markers\",marker=Marker(color=col2 ,size=15, opacity=0.5))], \n",
    "     show_link=False) "
   ]
  },
  {
   "cell_type": "code",
   "execution_count": 302,
   "metadata": {},
   "outputs": [],
   "source": [
    "def to_numbers(a, b):\n",
    "    result = []\n",
    "    ordered = list(set(a))\n",
    "    to_number = dict()\n",
    "    for index, name in enumerate(ordered):\n",
    "        to_number[name] = index+1*b\n",
    "    for elem in a:\n",
    "        result.append(to_number[elem])\n",
    "    return result"
   ]
  },
  {
   "cell_type": "code",
   "execution_count": 292,
   "metadata": {},
   "outputs": [],
   "source": [
    "annot = pd.read_csv(file6, sep='\\t',index_col=0,header=None)\n",
    "#annotdf.replace(np.nan, '', regex=True)\n"
   ]
  },
  {
   "cell_type": "code",
   "execution_count": 293,
   "metadata": {},
   "outputs": [],
   "source": [
    "atl = out1\n",
    "annot.index = atl.index\n",
    "yh = pd.concat([atl, annot], axis=1, sort=False)\n",
    "yh.columns = ['X','Y','clasters']"
   ]
  },
  {
   "cell_type": "code",
   "execution_count": 298,
   "metadata": {},
   "outputs": [],
   "source": [
    "yh = yh.replace(np.nan, \"UnKnown\", regex=True)"
   ]
  },
  {
   "cell_type": "code",
   "execution_count": 299,
   "metadata": {},
   "outputs": [],
   "source": [
    "yh.to_csv(\"/home/churkreev_group/exp_data/6_5/mapped_and_annotated_atlas.csv\")"
   ]
  }
 ],
 "metadata": {
  "kernelspec": {
   "display_name": "Python 3",
   "language": "python",
   "name": "python3"
  },
  "language_info": {
   "codemirror_mode": {
    "name": "ipython",
    "version": 3
   },
   "file_extension": ".py",
   "mimetype": "text/x-python",
   "name": "python",
   "nbconvert_exporter": "python",
   "pygments_lexer": "ipython3",
   "version": "3.7.1"
  }
 },
 "nbformat": 4,
 "nbformat_minor": 2
}
