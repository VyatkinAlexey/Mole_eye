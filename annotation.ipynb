{
 "cells": [
  {
   "cell_type": "code",
   "execution_count": 22,
   "metadata": {},
   "outputs": [],
   "source": [
    "countMatrix = read.delim(\"/home/churkreev_group/data_E6.75_E.7.25_E6.75/output_tables/Badabam_expression_matrix.tsv\")"
   ]
  },
  {
   "cell_type": "code",
   "execution_count": 23,
   "metadata": {},
   "outputs": [],
   "source": [
    "source(\"visualisation_and_clustering_functions.R\")"
   ]
  },
  {
   "cell_type": "code",
   "execution_count": 24,
   "metadata": {},
   "outputs": [
    {
     "name": "stderr",
     "output_type": "stream",
     "text": [
      "Annotating 12792 genes containing ENSMUSG pattern.\n",
      "'select()' returned 1:many mapping between keys and columns\n",
      "Annotating rest 0 genes \n",
      "considering them as SYMBOLs.\n",
      "Retrieving information about genes from biomaRt. \n",
      "            It can take up to five minutes, depends on Internet connection.\n"
     ]
    }
   ],
   "source": [
    "rowdata = annotateGenes(countMatrix, species = 'mmu')"
   ]
  },
  {
   "cell_type": "code",
   "execution_count": 26,
   "metadata": {
    "scrolled": false
   },
   "outputs": [
    {
     "data": {
      "text/html": [
       "<ol class=list-inline>\n",
       "\t<li>12792</li>\n",
       "\t<li>8</li>\n",
       "</ol>\n"
      ],
      "text/latex": [
       "\\begin{enumerate*}\n",
       "\\item 12792\n",
       "\\item 8\n",
       "\\end{enumerate*}\n"
      ],
      "text/markdown": [
       "1. 12792\n",
       "2. 8\n",
       "\n",
       "\n"
      ],
      "text/plain": [
       "[1] 12792     8"
      ]
     },
     "metadata": {},
     "output_type": "display_data"
    }
   ],
   "source": [
    "dim(rowdata)"
   ]
  },
  {
   "cell_type": "code",
   "execution_count": 27,
   "metadata": {},
   "outputs": [],
   "source": [
    "rowdata = rowdata[c('nameInCountMatrix', 'SYMBOL')]"
   ]
  },
  {
   "cell_type": "code",
   "execution_count": 32,
   "metadata": {},
   "outputs": [
    {
     "data": {
      "text/plain": [
       "\n",
       " TRUE \n",
       "12792 "
      ]
     },
     "metadata": {},
     "output_type": "display_data"
    }
   ],
   "source": [
    "table(rownames(countMatrix) == rownames(rowdata))"
   ]
  },
  {
   "cell_type": "code",
   "execution_count": 52,
   "metadata": {},
   "outputs": [
    {
     "data": {
      "text/html": [
       "<table>\n",
       "<thead><tr><th></th><th scope=col>nameInCountMatrix</th><th scope=col>SYMBOL</th></tr></thead>\n",
       "<tbody>\n",
       "\t<tr><th scope=row>ENSMUSG00000000001</th><td>ENSMUSG00000000001</td><td>Gnai3             </td></tr>\n",
       "\t<tr><th scope=row>ENSMUSG00000000028</th><td>ENSMUSG00000000028</td><td>Cdc45             </td></tr>\n",
       "\t<tr><th scope=row>ENSMUSG00000000031</th><td>ENSMUSG00000000031</td><td>H19               </td></tr>\n",
       "\t<tr><th scope=row>ENSMUSG00000000037</th><td>ENSMUSG00000000037</td><td>Scml2             </td></tr>\n",
       "\t<tr><th scope=row>ENSMUSG00000000056</th><td>ENSMUSG00000000056</td><td>Narf              </td></tr>\n",
       "\t<tr><th scope=row>ENSMUSG00000000078</th><td>ENSMUSG00000000078</td><td>Klf6              </td></tr>\n",
       "</tbody>\n",
       "</table>\n"
      ],
      "text/latex": [
       "\\begin{tabular}{r|ll}\n",
       "  & nameInCountMatrix & SYMBOL\\\\\n",
       "\\hline\n",
       "\tENSMUSG00000000001 & ENSMUSG00000000001 & Gnai3             \\\\\n",
       "\tENSMUSG00000000028 & ENSMUSG00000000028 & Cdc45             \\\\\n",
       "\tENSMUSG00000000031 & ENSMUSG00000000031 & H19               \\\\\n",
       "\tENSMUSG00000000037 & ENSMUSG00000000037 & Scml2             \\\\\n",
       "\tENSMUSG00000000056 & ENSMUSG00000000056 & Narf              \\\\\n",
       "\tENSMUSG00000000078 & ENSMUSG00000000078 & Klf6              \\\\\n",
       "\\end{tabular}\n"
      ],
      "text/markdown": [
       "\n",
       "| <!--/--> | nameInCountMatrix | SYMBOL | \n",
       "|---|---|---|---|---|---|\n",
       "| ENSMUSG00000000001 | ENSMUSG00000000001 | Gnai3              | \n",
       "| ENSMUSG00000000028 | ENSMUSG00000000028 | Cdc45              | \n",
       "| ENSMUSG00000000031 | ENSMUSG00000000031 | H19                | \n",
       "| ENSMUSG00000000037 | ENSMUSG00000000037 | Scml2              | \n",
       "| ENSMUSG00000000056 | ENSMUSG00000000056 | Narf               | \n",
       "| ENSMUSG00000000078 | ENSMUSG00000000078 | Klf6               | \n",
       "\n",
       "\n"
      ],
      "text/plain": [
       "                   nameInCountMatrix  SYMBOL\n",
       "ENSMUSG00000000001 ENSMUSG00000000001 Gnai3 \n",
       "ENSMUSG00000000028 ENSMUSG00000000028 Cdc45 \n",
       "ENSMUSG00000000031 ENSMUSG00000000031 H19   \n",
       "ENSMUSG00000000037 ENSMUSG00000000037 Scml2 \n",
       "ENSMUSG00000000056 ENSMUSG00000000056 Narf  \n",
       "ENSMUSG00000000078 ENSMUSG00000000078 Klf6  "
      ]
     },
     "metadata": {},
     "output_type": "display_data"
    }
   ],
   "source": [
    "head(rowdatata)"
   ]
  },
  {
   "cell_type": "code",
   "execution_count": 51,
   "metadata": {},
   "outputs": [
    {
     "data": {
      "text/html": [
       "TRUE"
      ],
      "text/latex": [
       "TRUE"
      ],
      "text/markdown": [
       "TRUE"
      ],
      "text/plain": [
       "[1] TRUE"
      ]
     },
     "metadata": {},
     "output_type": "display_data"
    }
   ],
   "source": [
    "is.na(tail(rowdata$SYMBOL)[2])"
   ]
  },
  {
   "cell_type": "code",
   "execution_count": 61,
   "metadata": {},
   "outputs": [],
   "source": [
    "for (i in 1:nrow(rowdata)){\n",
    "  if(is.na(rowdata$SYMBOL[i])){\n",
    "      rowdata$SYMBOL[i] = rowdata$nameInCountMatrix[i]\n",
    "  }\n",
    "}"
   ]
  },
  {
   "cell_type": "code",
   "execution_count": 64,
   "metadata": {},
   "outputs": [],
   "source": [
    "rownames(countMatrix) = rowdata$SYMBOL"
   ]
  },
  {
   "cell_type": "code",
   "execution_count": 65,
   "metadata": {},
   "outputs": [],
   "source": [
    "write.csv(countMatrix, file='/home/churkreev_group/data_E6.75_E.7.25_E6.75/output_tables/Badabam_expression_matrix_annotated_genes.tsv')\n",
    "\n"
   ]
  },
  {
   "cell_type": "code",
   "execution_count": null,
   "metadata": {},
   "outputs": [],
   "source": []
  },
  {
   "cell_type": "code",
   "execution_count": null,
   "metadata": {},
   "outputs": [],
   "source": []
  },
  {
   "cell_type": "code",
   "execution_count": null,
   "metadata": {},
   "outputs": [],
   "source": []
  }
 ],
 "metadata": {
  "kernelspec": {
   "display_name": "R",
   "language": "R",
   "name": "ir"
  },
  "language_info": {
   "codemirror_mode": "r",
   "file_extension": ".r",
   "mimetype": "text/x-r-source",
   "name": "R",
   "pygments_lexer": "r",
   "version": "3.5.1"
  }
 },
 "nbformat": 4,
 "nbformat_minor": 2
}
