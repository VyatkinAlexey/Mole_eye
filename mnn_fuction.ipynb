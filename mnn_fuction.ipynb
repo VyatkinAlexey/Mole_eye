{
 "cells": [
  {
   "cell_type": "code",
   "execution_count": 1,
   "metadata": {},
   "outputs": [
    {
     "name": "stderr",
     "output_type": "stream",
     "text": [
      "Loading required package: BiocParallel\n",
      "Loading required package: SingleCellExperiment\n",
      "Loading required package: SummarizedExperiment\n",
      "Loading required package: GenomicRanges\n",
      "Loading required package: stats4\n",
      "Loading required package: BiocGenerics\n",
      "Loading required package: parallel\n",
      "\n",
      "Attaching package: ‘BiocGenerics’\n",
      "\n",
      "The following objects are masked from ‘package:parallel’:\n",
      "\n",
      "    clusterApply, clusterApplyLB, clusterCall, clusterEvalQ,\n",
      "    clusterExport, clusterMap, parApply, parCapply, parLapply,\n",
      "    parLapplyLB, parRapply, parSapply, parSapplyLB\n",
      "\n",
      "The following objects are masked from ‘package:stats’:\n",
      "\n",
      "    IQR, mad, sd, var, xtabs\n",
      "\n",
      "The following objects are masked from ‘package:base’:\n",
      "\n",
      "    anyDuplicated, append, as.data.frame, basename, cbind, colMeans,\n",
      "    colnames, colSums, dirname, do.call, duplicated, eval, evalq,\n",
      "    Filter, Find, get, grep, grepl, intersect, is.unsorted, lapply,\n",
      "    lengths, Map, mapply, match, mget, order, paste, pmax, pmax.int,\n",
      "    pmin, pmin.int, Position, rank, rbind, Reduce, rowMeans, rownames,\n",
      "    rowSums, sapply, setdiff, sort, table, tapply, union, unique,\n",
      "    unsplit, which, which.max, which.min\n",
      "\n",
      "Loading required package: S4Vectors\n",
      "\n",
      "Attaching package: ‘S4Vectors’\n",
      "\n",
      "The following object is masked from ‘package:base’:\n",
      "\n",
      "    expand.grid\n",
      "\n",
      "Loading required package: IRanges\n",
      "Loading required package: GenomeInfoDb\n",
      "Loading required package: Biobase\n",
      "Welcome to Bioconductor\n",
      "\n",
      "    Vignettes contain introductory material; view with\n",
      "    'browseVignettes()'. To cite Bioconductor, see\n",
      "    'citation(\"Biobase\")', and for packages 'citation(\"pkgname\")'.\n",
      "\n",
      "Loading required package: DelayedArray\n",
      "Loading required package: matrixStats\n",
      "\n",
      "Attaching package: ‘matrixStats’\n",
      "\n",
      "The following objects are masked from ‘package:Biobase’:\n",
      "\n",
      "    anyMissing, rowMedians\n",
      "\n",
      "\n",
      "Attaching package: ‘DelayedArray’\n",
      "\n",
      "The following objects are masked from ‘package:matrixStats’:\n",
      "\n",
      "    colMaxs, colMins, colRanges, rowMaxs, rowMins, rowRanges\n",
      "\n",
      "The following objects are masked from ‘package:base’:\n",
      "\n",
      "    aperm, apply\n",
      "\n"
     ]
    }
   ],
   "source": [
    "library(scran)\n",
    "library(ggplot2)\n",
    "library(RColorBrewer)\n",
    "library(MASS)\n",
    "library(biomaRt)"
   ]
  },
  {
   "cell_type": "code",
   "execution_count": 9,
   "metadata": {},
   "outputs": [],
   "source": [
    "do_correction <- function(atlas_path, experiment_path, prefix, separator){\n",
    "        \n",
    "    df2 = read.delim(atlas_path)\n",
    "    df4 = read.delim(experiment_path, sep=separator, row.names=1)\n",
    "\n",
    "    rownames(df2) = sub(\"_.*\",\"\",rownames(df2))\n",
    "    #rownames(df4) = sub(\"_.*\",\"\",rownames(df4))\n",
    "    df4 = df4[!grepl(\"_\", rownames(df4)),]\n",
    "    \n",
    "        \n",
    "    # пересечение дней 8.25 и атласа\n",
    "    gene_list_intersecton42 = intersect(rownames(df4), rownames(df2))\n",
    "    length(gene_list_intersecton42)\n",
    "    \n",
    "    #порезанные файлы для введения MNN коррекции\n",
    "    df2_cutted = df2[gene_list_intersecton42,] # атлас\n",
    "    df4_cutted = df4[gene_list_intersecton42,] # 8.25\n",
    "    \n",
    "    print(table(rownames(df2_cutted) == rownames(df4_cutted)))\n",
    "    \n",
    "    # корректировка - 8.25 день (df4)\n",
    "    print('Now its mNN')\n",
    "    mNN_3 = mnnCorrect(as.matrix(df2_cutted), as.matrix(df4_cutted))\n",
    "    \n",
    "    df2_cutted_corrected = mNN_3$corrected[[1]]\n",
    "    df4_cutted_corrected = mNN_3$corrected[[2]]\n",
    "    \n",
    "    # assigning right colnames and rownames\n",
    "    colnames(df2_cutted_corrected) = colnames(df2_cutted)\n",
    "    rownames(df2_cutted_corrected) = rownames(df2_cutted)\n",
    "\n",
    "    colnames(df4_cutted_corrected) = colnames(df4_cutted)\n",
    "    rownames(df4_cutted_corrected) = rownames(df4_cutted)\n",
    "    \n",
    "    path_head = '~/chukreev/batch_effect'\n",
    "    print('Writing to files')\n",
    "    write.table(df2_cutted_corrected, file=file.path(PATH=path_head, paste0(\"atlas_\", prefix, \"_corrected.tsv\")), sep=\"\\t\", row.names = TRUE, quote = FALSE, col.names = TRUE)\n",
    "    write.table(df4_cutted_corrected, file=file.path(PATH=path_head, paste0(\"experiment_\", prefix, \"_corrected.tsv\")), sep=\"\\t\", row.names = TRUE, quote = FALSE, col.names = TRUE)\n",
    "\n",
    "}"
   ]
  },
  {
   "cell_type": "code",
   "execution_count": 6,
   "metadata": {},
   "outputs": [],
   "source": [
    "atlas_path = '/home/churkreev_group/references/7_25/counts_E_7_25.tsv'\n",
    "experiment_path = '/home/churkreev_group/exp_data/7_25/Badabam_expression_matrix_annotated_genes.tsv'\n",
    "prefix = '75'"
   ]
  },
  {
   "cell_type": "code",
   "execution_count": 7,
   "metadata": {},
   "outputs": [],
   "source": [
    "df2 = read.delim(atlas_path)\n",
    "df4 = read.delim(experiment_path, sep='\\t', row.names=1)"
   ]
  },
  {
   "cell_type": "code",
   "execution_count": 8,
   "metadata": {},
   "outputs": [
    {
     "data": {
      "text/html": [
       "<ol class=list-inline>\n",
       "\t<li>29452</li>\n",
       "\t<li>15294</li>\n",
       "</ol>\n"
      ],
      "text/latex": [
       "\\begin{enumerate*}\n",
       "\\item 29452\n",
       "\\item 15294\n",
       "\\end{enumerate*}\n"
      ],
      "text/markdown": [
       "1. 29452\n",
       "2. 15294\n",
       "\n",
       "\n"
      ],
      "text/plain": [
       "[1] 29452 15294"
      ]
     },
     "metadata": {},
     "output_type": "display_data"
    },
    {
     "data": {
      "text/html": [
       "<ol class=list-inline>\n",
       "\t<li>12792</li>\n",
       "\t<li>0</li>\n",
       "</ol>\n"
      ],
      "text/latex": [
       "\\begin{enumerate*}\n",
       "\\item 12792\n",
       "\\item 0\n",
       "\\end{enumerate*}\n"
      ],
      "text/markdown": [
       "1. 12792\n",
       "2. 0\n",
       "\n",
       "\n"
      ],
      "text/plain": [
       "[1] 12792     0"
      ]
     },
     "metadata": {},
     "output_type": "display_data"
    }
   ],
   "source": [
    "dim(df2)\n",
    "dim(df4)"
   ]
  },
  {
   "cell_type": "code",
   "execution_count": 26,
   "metadata": {},
   "outputs": [],
   "source": [
    "df4_cutted_corrected = read.delim(\"~/chukreev/batch_effect/experiment_6_5_corrected_1.tsv\")"
   ]
  },
  {
   "cell_type": "code",
   "execution_count": null,
   "metadata": {},
   "outputs": [],
   "source": []
  },
  {
   "cell_type": "code",
   "execution_count": 3,
   "metadata": {},
   "outputs": [
    {
     "name": "stdout",
     "output_type": "stream",
     "text": [
      "\n",
      " TRUE \n",
      "11037 \n"
     ]
    }
   ],
   "source": [
    "# 6_5\n",
    "do_correction('/home/churkreev_group/references/6_5/counts_E_65.tsv', \n",
    "             '/home/churkreev_group/exp_data/6_5/day6.5',\n",
    "             '6_5')"
   ]
  },
  {
   "cell_type": "code",
   "execution_count": 10,
   "metadata": {
    "scrolled": false
   },
   "outputs": [
    {
     "name": "stdout",
     "output_type": "stream",
     "text": [
      "\n",
      " TRUE \n",
      "11871 \n"
     ]
    }
   ],
   "source": [
    "# 7_25\n",
    "do_correction('/home/churkreev_group/references/7_25/counts_E_7_25.tsv', \n",
    "             '/home/churkreev_group/exp_data/7_25/Badabam_expression_matrix_annotated_genes.tsv',\n",
    "             '725',\n",
    "             separator=',')"
   ]
  },
  {
   "cell_type": "code",
   "execution_count": 11,
   "metadata": {},
   "outputs": [
    {
     "ename": "ERROR",
     "evalue": "Error in read.delim(experiment_path, sep = separator, row.names = 1): argument \"separator\" is missing, with no default\n",
     "output_type": "error",
     "traceback": [
      "Error in read.delim(experiment_path, sep = separator, row.names = 1): argument \"separator\" is missing, with no default\nTraceback:\n",
      "1. do_correction(\"/home//churkreev_group/references/8_25/counts_E_8_25.tsv\", \n .     \"/home/churkreev_group/exp_data/8_25/IGotNoBoobs_expression_matrix.tsv\", \n .     \"825\")",
      "2. read.delim(experiment_path, sep = separator, row.names = 1)   # at line 4 of file <text>",
      "3. read.table(file = file, header = header, sep = sep, quote = quote, \n .     dec = dec, fill = fill, comment.char = comment.char, ...)"
     ]
    }
   ],
   "source": [
    "# 8_25\n",
    "do_correction('/home//churkreev_group/references/8_25/counts_E_8_25.tsv', \n",
    "             '/home/churkreev_group/exp_data/8_25/IGotNoBoobs_expression_matrix.tsv',\n",
    "             '825')"
   ]
  },
  {
   "cell_type": "code",
   "execution_count": null,
   "metadata": {},
   "outputs": [],
   "source": []
  }
 ],
 "metadata": {
  "kernelspec": {
   "display_name": "R",
   "language": "R",
   "name": "ir"
  },
  "language_info": {
   "codemirror_mode": "r",
   "file_extension": ".r",
   "mimetype": "text/x-r-source",
   "name": "R",
   "pygments_lexer": "r",
   "version": "3.5.1"
  }
 },
 "nbformat": 4,
 "nbformat_minor": 2
}
