{
 "cells": [
  {
   "cell_type": "code",
   "execution_count": 26,
   "metadata": {},
   "outputs": [],
   "source": [
    "import pandas as pd\n",
    "from sklearn.manifold import TSNE\n",
    "import numpy \n",
    "import matplotlib.pyplot as plt\n",
    "import seaborn\n",
    "import matplotlib.pyplot as plt"
   ]
  },
  {
   "cell_type": "code",
   "execution_count": 27,
   "metadata": {},
   "outputs": [],
   "source": [
    "df = pd.read_csv('/home/churkreev_group/data_E6.75_E.7.25_E6.75/output_tables/Badabam_colData.tsv' , sep='\\t', index_col=0)"
   ]
  },
  {
   "cell_type": "code",
   "execution_count": 73,
   "metadata": {},
   "outputs": [
    {
     "data": {
      "text/html": [
       "<div>\n",
       "<style scoped>\n",
       "    .dataframe tbody tr th:only-of-type {\n",
       "        vertical-align: middle;\n",
       "    }\n",
       "\n",
       "    .dataframe tbody tr th {\n",
       "        vertical-align: top;\n",
       "    }\n",
       "\n",
       "    .dataframe thead th {\n",
       "        text-align: right;\n",
       "    }\n",
       "</style>\n",
       "<table border=\"1\" class=\"dataframe\">\n",
       "  <thead>\n",
       "    <tr style=\"text-align: right;\">\n",
       "      <th></th>\n",
       "      <th>X</th>\n",
       "      <th>is_cell_control</th>\n",
       "      <th>total_features_by_counts</th>\n",
       "      <th>log10_total_features_by_counts</th>\n",
       "      <th>total_counts</th>\n",
       "      <th>log10_total_counts</th>\n",
       "      <th>pct_counts_in_top_50_features</th>\n",
       "      <th>pct_counts_in_top_100_features</th>\n",
       "      <th>pct_counts_in_top_200_features</th>\n",
       "      <th>pct_counts_in_top_500_features</th>\n",
       "      <th>...</th>\n",
       "      <th>log10_total_features_feature_control</th>\n",
       "      <th>total_features_by_counts_mt</th>\n",
       "      <th>log10_total_features_by_counts_mt</th>\n",
       "      <th>total_counts_mt</th>\n",
       "      <th>log10_total_counts_mt</th>\n",
       "      <th>pct_counts_mt</th>\n",
       "      <th>total_features_mt</th>\n",
       "      <th>log10_total_features_mt</th>\n",
       "      <th>cellName</th>\n",
       "      <th>clusters</th>\n",
       "    </tr>\n",
       "  </thead>\n",
       "  <tbody>\n",
       "    <tr>\n",
       "      <th>E6.75_Mesp1.GFP._KO_003</th>\n",
       "      <td>E6</td>\n",
       "      <td>False</td>\n",
       "      <td>7882</td>\n",
       "      <td>3.896692</td>\n",
       "      <td>35190.258649</td>\n",
       "      <td>4.546435</td>\n",
       "      <td>16.128650</td>\n",
       "      <td>21.264471</td>\n",
       "      <td>28.435677</td>\n",
       "      <td>43.007675</td>\n",
       "      <td>...</td>\n",
       "      <td>0</td>\n",
       "      <td>0</td>\n",
       "      <td>0</td>\n",
       "      <td>0</td>\n",
       "      <td>0</td>\n",
       "      <td>0</td>\n",
       "      <td>0</td>\n",
       "      <td>0</td>\n",
       "      <td>E6.75_Mesp1.GFP._KO_003</td>\n",
       "      <td>1</td>\n",
       "    </tr>\n",
       "    <tr>\n",
       "      <th>E6.75_Mesp1.GFP._KO_004</th>\n",
       "      <td>E6</td>\n",
       "      <td>False</td>\n",
       "      <td>7369</td>\n",
       "      <td>3.867467</td>\n",
       "      <td>34544.395764</td>\n",
       "      <td>4.538390</td>\n",
       "      <td>16.446133</td>\n",
       "      <td>22.268612</td>\n",
       "      <td>30.118645</td>\n",
       "      <td>45.374654</td>\n",
       "      <td>...</td>\n",
       "      <td>0</td>\n",
       "      <td>0</td>\n",
       "      <td>0</td>\n",
       "      <td>0</td>\n",
       "      <td>0</td>\n",
       "      <td>0</td>\n",
       "      <td>0</td>\n",
       "      <td>0</td>\n",
       "      <td>E6.75_Mesp1.GFP._KO_004</td>\n",
       "      <td>6</td>\n",
       "    </tr>\n",
       "    <tr>\n",
       "      <th>E6.75_Mesp1.GFP._KO_006</th>\n",
       "      <td>E6</td>\n",
       "      <td>False</td>\n",
       "      <td>7279</td>\n",
       "      <td>3.862131</td>\n",
       "      <td>32977.901556</td>\n",
       "      <td>4.518236</td>\n",
       "      <td>16.954907</td>\n",
       "      <td>22.658640</td>\n",
       "      <td>30.509146</td>\n",
       "      <td>45.724110</td>\n",
       "      <td>...</td>\n",
       "      <td>0</td>\n",
       "      <td>0</td>\n",
       "      <td>0</td>\n",
       "      <td>0</td>\n",
       "      <td>0</td>\n",
       "      <td>0</td>\n",
       "      <td>0</td>\n",
       "      <td>0</td>\n",
       "      <td>E6.75_Mesp1.GFP._KO_006</td>\n",
       "      <td>6</td>\n",
       "    </tr>\n",
       "    <tr>\n",
       "      <th>E6.75_Mesp1.GFP._KO_007</th>\n",
       "      <td>E6</td>\n",
       "      <td>False</td>\n",
       "      <td>7198</td>\n",
       "      <td>3.857272</td>\n",
       "      <td>32145.731446</td>\n",
       "      <td>4.507137</td>\n",
       "      <td>17.529082</td>\n",
       "      <td>23.545915</td>\n",
       "      <td>31.483814</td>\n",
       "      <td>46.487248</td>\n",
       "      <td>...</td>\n",
       "      <td>0</td>\n",
       "      <td>0</td>\n",
       "      <td>0</td>\n",
       "      <td>0</td>\n",
       "      <td>0</td>\n",
       "      <td>0</td>\n",
       "      <td>0</td>\n",
       "      <td>0</td>\n",
       "      <td>E6.75_Mesp1.GFP._KO_007</td>\n",
       "      <td>6</td>\n",
       "    </tr>\n",
       "    <tr>\n",
       "      <th>E6.75_Mesp1.GFP._KO_008</th>\n",
       "      <td>E6</td>\n",
       "      <td>False</td>\n",
       "      <td>7162</td>\n",
       "      <td>3.855095</td>\n",
       "      <td>33286.171562</td>\n",
       "      <td>4.522277</td>\n",
       "      <td>18.138640</td>\n",
       "      <td>24.212501</td>\n",
       "      <td>32.403348</td>\n",
       "      <td>48.388741</td>\n",
       "      <td>...</td>\n",
       "      <td>0</td>\n",
       "      <td>0</td>\n",
       "      <td>0</td>\n",
       "      <td>0</td>\n",
       "      <td>0</td>\n",
       "      <td>0</td>\n",
       "      <td>0</td>\n",
       "      <td>0</td>\n",
       "      <td>E6.75_Mesp1.GFP._KO_008</td>\n",
       "      <td>12</td>\n",
       "    </tr>\n",
       "  </tbody>\n",
       "</table>\n",
       "<p>5 rows × 39 columns</p>\n",
       "</div>"
      ],
      "text/plain": [
       "                          X  is_cell_control  total_features_by_counts  \\\n",
       "E6.75_Mesp1.GFP._KO_003  E6            False                      7882   \n",
       "E6.75_Mesp1.GFP._KO_004  E6            False                      7369   \n",
       "E6.75_Mesp1.GFP._KO_006  E6            False                      7279   \n",
       "E6.75_Mesp1.GFP._KO_007  E6            False                      7198   \n",
       "E6.75_Mesp1.GFP._KO_008  E6            False                      7162   \n",
       "\n",
       "                         log10_total_features_by_counts  total_counts  \\\n",
       "E6.75_Mesp1.GFP._KO_003                        3.896692  35190.258649   \n",
       "E6.75_Mesp1.GFP._KO_004                        3.867467  34544.395764   \n",
       "E6.75_Mesp1.GFP._KO_006                        3.862131  32977.901556   \n",
       "E6.75_Mesp1.GFP._KO_007                        3.857272  32145.731446   \n",
       "E6.75_Mesp1.GFP._KO_008                        3.855095  33286.171562   \n",
       "\n",
       "                         log10_total_counts  pct_counts_in_top_50_features  \\\n",
       "E6.75_Mesp1.GFP._KO_003            4.546435                      16.128650   \n",
       "E6.75_Mesp1.GFP._KO_004            4.538390                      16.446133   \n",
       "E6.75_Mesp1.GFP._KO_006            4.518236                      16.954907   \n",
       "E6.75_Mesp1.GFP._KO_007            4.507137                      17.529082   \n",
       "E6.75_Mesp1.GFP._KO_008            4.522277                      18.138640   \n",
       "\n",
       "                         pct_counts_in_top_100_features  \\\n",
       "E6.75_Mesp1.GFP._KO_003                       21.264471   \n",
       "E6.75_Mesp1.GFP._KO_004                       22.268612   \n",
       "E6.75_Mesp1.GFP._KO_006                       22.658640   \n",
       "E6.75_Mesp1.GFP._KO_007                       23.545915   \n",
       "E6.75_Mesp1.GFP._KO_008                       24.212501   \n",
       "\n",
       "                         pct_counts_in_top_200_features  \\\n",
       "E6.75_Mesp1.GFP._KO_003                       28.435677   \n",
       "E6.75_Mesp1.GFP._KO_004                       30.118645   \n",
       "E6.75_Mesp1.GFP._KO_006                       30.509146   \n",
       "E6.75_Mesp1.GFP._KO_007                       31.483814   \n",
       "E6.75_Mesp1.GFP._KO_008                       32.403348   \n",
       "\n",
       "                         pct_counts_in_top_500_features    ...     \\\n",
       "E6.75_Mesp1.GFP._KO_003                       43.007675    ...      \n",
       "E6.75_Mesp1.GFP._KO_004                       45.374654    ...      \n",
       "E6.75_Mesp1.GFP._KO_006                       45.724110    ...      \n",
       "E6.75_Mesp1.GFP._KO_007                       46.487248    ...      \n",
       "E6.75_Mesp1.GFP._KO_008                       48.388741    ...      \n",
       "\n",
       "                         log10_total_features_feature_control  \\\n",
       "E6.75_Mesp1.GFP._KO_003                                     0   \n",
       "E6.75_Mesp1.GFP._KO_004                                     0   \n",
       "E6.75_Mesp1.GFP._KO_006                                     0   \n",
       "E6.75_Mesp1.GFP._KO_007                                     0   \n",
       "E6.75_Mesp1.GFP._KO_008                                     0   \n",
       "\n",
       "                         total_features_by_counts_mt  \\\n",
       "E6.75_Mesp1.GFP._KO_003                            0   \n",
       "E6.75_Mesp1.GFP._KO_004                            0   \n",
       "E6.75_Mesp1.GFP._KO_006                            0   \n",
       "E6.75_Mesp1.GFP._KO_007                            0   \n",
       "E6.75_Mesp1.GFP._KO_008                            0   \n",
       "\n",
       "                         log10_total_features_by_counts_mt  total_counts_mt  \\\n",
       "E6.75_Mesp1.GFP._KO_003                                  0                0   \n",
       "E6.75_Mesp1.GFP._KO_004                                  0                0   \n",
       "E6.75_Mesp1.GFP._KO_006                                  0                0   \n",
       "E6.75_Mesp1.GFP._KO_007                                  0                0   \n",
       "E6.75_Mesp1.GFP._KO_008                                  0                0   \n",
       "\n",
       "                         log10_total_counts_mt  pct_counts_mt  \\\n",
       "E6.75_Mesp1.GFP._KO_003                      0              0   \n",
       "E6.75_Mesp1.GFP._KO_004                      0              0   \n",
       "E6.75_Mesp1.GFP._KO_006                      0              0   \n",
       "E6.75_Mesp1.GFP._KO_007                      0              0   \n",
       "E6.75_Mesp1.GFP._KO_008                      0              0   \n",
       "\n",
       "                         total_features_mt  log10_total_features_mt  \\\n",
       "E6.75_Mesp1.GFP._KO_003                  0                        0   \n",
       "E6.75_Mesp1.GFP._KO_004                  0                        0   \n",
       "E6.75_Mesp1.GFP._KO_006                  0                        0   \n",
       "E6.75_Mesp1.GFP._KO_007                  0                        0   \n",
       "E6.75_Mesp1.GFP._KO_008                  0                        0   \n",
       "\n",
       "                                        cellName  clusters  \n",
       "E6.75_Mesp1.GFP._KO_003  E6.75_Mesp1.GFP._KO_003         1  \n",
       "E6.75_Mesp1.GFP._KO_004  E6.75_Mesp1.GFP._KO_004         6  \n",
       "E6.75_Mesp1.GFP._KO_006  E6.75_Mesp1.GFP._KO_006         6  \n",
       "E6.75_Mesp1.GFP._KO_007  E6.75_Mesp1.GFP._KO_007         6  \n",
       "E6.75_Mesp1.GFP._KO_008  E6.75_Mesp1.GFP._KO_008        12  \n",
       "\n",
       "[5 rows x 39 columns]"
      ]
     },
     "execution_count": 73,
     "metadata": {},
     "output_type": "execute_result"
    }
   ],
   "source": [
    "df.head()"
   ]
  },
  {
   "cell_type": "code",
   "execution_count": 29,
   "metadata": {},
   "outputs": [],
   "source": [
    "df1 = df.iloc[:,37]"
   ]
  },
  {
   "cell_type": "code",
   "execution_count": 30,
   "metadata": {},
   "outputs": [],
   "source": [
    "df1=pd.DataFrame(df1)"
   ]
  },
  {
   "cell_type": "code",
   "execution_count": 31,
   "metadata": {
    "scrolled": true
   },
   "outputs": [
    {
     "data": {
      "text/html": [
       "<div>\n",
       "<style scoped>\n",
       "    .dataframe tbody tr th:only-of-type {\n",
       "        vertical-align: middle;\n",
       "    }\n",
       "\n",
       "    .dataframe tbody tr th {\n",
       "        vertical-align: top;\n",
       "    }\n",
       "\n",
       "    .dataframe thead th {\n",
       "        text-align: right;\n",
       "    }\n",
       "</style>\n",
       "<table border=\"1\" class=\"dataframe\">\n",
       "  <thead>\n",
       "    <tr style=\"text-align: right;\">\n",
       "      <th></th>\n",
       "      <th>cellName</th>\n",
       "    </tr>\n",
       "  </thead>\n",
       "  <tbody>\n",
       "    <tr>\n",
       "      <th>E6.75_Mesp1.GFP._KO_003</th>\n",
       "      <td>E6.75_Mesp1.GFP._KO_003</td>\n",
       "    </tr>\n",
       "    <tr>\n",
       "      <th>E6.75_Mesp1.GFP._KO_004</th>\n",
       "      <td>E6.75_Mesp1.GFP._KO_004</td>\n",
       "    </tr>\n",
       "    <tr>\n",
       "      <th>E6.75_Mesp1.GFP._KO_006</th>\n",
       "      <td>E6.75_Mesp1.GFP._KO_006</td>\n",
       "    </tr>\n",
       "    <tr>\n",
       "      <th>E6.75_Mesp1.GFP._KO_007</th>\n",
       "      <td>E6.75_Mesp1.GFP._KO_007</td>\n",
       "    </tr>\n",
       "    <tr>\n",
       "      <th>E6.75_Mesp1.GFP._KO_008</th>\n",
       "      <td>E6.75_Mesp1.GFP._KO_008</td>\n",
       "    </tr>\n",
       "  </tbody>\n",
       "</table>\n",
       "</div>"
      ],
      "text/plain": [
       "                                        cellName\n",
       "E6.75_Mesp1.GFP._KO_003  E6.75_Mesp1.GFP._KO_003\n",
       "E6.75_Mesp1.GFP._KO_004  E6.75_Mesp1.GFP._KO_004\n",
       "E6.75_Mesp1.GFP._KO_006  E6.75_Mesp1.GFP._KO_006\n",
       "E6.75_Mesp1.GFP._KO_007  E6.75_Mesp1.GFP._KO_007\n",
       "E6.75_Mesp1.GFP._KO_008  E6.75_Mesp1.GFP._KO_008"
      ]
     },
     "execution_count": 31,
     "metadata": {},
     "output_type": "execute_result"
    }
   ],
   "source": [
    "df1.head()"
   ]
  },
  {
   "cell_type": "code",
   "execution_count": 71,
   "metadata": {},
   "outputs": [],
   "source": [
    "#df1['column'] = df1['coloumn'].apply(lambda x: x.split('_')[0]) \n"
   ]
  },
  {
   "cell_type": "code",
   "execution_count": 72,
   "metadata": {
    "scrolled": true
   },
   "outputs": [
    {
     "data": {
      "text/html": [
       "<div>\n",
       "<style scoped>\n",
       "    .dataframe tbody tr th:only-of-type {\n",
       "        vertical-align: middle;\n",
       "    }\n",
       "\n",
       "    .dataframe tbody tr th {\n",
       "        vertical-align: top;\n",
       "    }\n",
       "\n",
       "    .dataframe thead th {\n",
       "        text-align: right;\n",
       "    }\n",
       "</style>\n",
       "<table border=\"1\" class=\"dataframe\">\n",
       "  <thead>\n",
       "    <tr style=\"text-align: right;\">\n",
       "      <th>column</th>\n",
       "      <th>cellName</th>\n",
       "      <th>c</th>\n",
       "    </tr>\n",
       "  </thead>\n",
       "  <tbody>\n",
       "    <tr>\n",
       "      <th>E6.75</th>\n",
       "      <td>E6.75_Mesp1.GFP._KO_003</td>\n",
       "      <td>E6.75</td>\n",
       "    </tr>\n",
       "    <tr>\n",
       "      <th>E6.75</th>\n",
       "      <td>E6.75_Mesp1.GFP._KO_004</td>\n",
       "      <td>E6.75</td>\n",
       "    </tr>\n",
       "    <tr>\n",
       "      <th>E6.75</th>\n",
       "      <td>E6.75_Mesp1.GFP._KO_006</td>\n",
       "      <td>E6.75</td>\n",
       "    </tr>\n",
       "    <tr>\n",
       "      <th>E6.75</th>\n",
       "      <td>E6.75_Mesp1.GFP._KO_007</td>\n",
       "      <td>E6.75</td>\n",
       "    </tr>\n",
       "    <tr>\n",
       "      <th>E6.75</th>\n",
       "      <td>E6.75_Mesp1.GFP._KO_008</td>\n",
       "      <td>E6.75</td>\n",
       "    </tr>\n",
       "  </tbody>\n",
       "</table>\n",
       "</div>"
      ],
      "text/plain": [
       "column                 cellName      c\n",
       "E6.75   E6.75_Mesp1.GFP._KO_003  E6.75\n",
       "E6.75   E6.75_Mesp1.GFP._KO_004  E6.75\n",
       "E6.75   E6.75_Mesp1.GFP._KO_006  E6.75\n",
       "E6.75   E6.75_Mesp1.GFP._KO_007  E6.75\n",
       "E6.75   E6.75_Mesp1.GFP._KO_008  E6.75"
      ]
     },
     "execution_count": 72,
     "metadata": {},
     "output_type": "execute_result"
    }
   ],
   "source": [
    "df1.columns.names = ['column']\n",
    "df1.head()"
   ]
  },
  {
   "cell_type": "code",
   "execution_count": 42,
   "metadata": {
    "scrolled": true
   },
   "outputs": [
    {
     "data": {
      "text/html": [
       "<div>\n",
       "<style scoped>\n",
       "    .dataframe tbody tr th:only-of-type {\n",
       "        vertical-align: middle;\n",
       "    }\n",
       "\n",
       "    .dataframe tbody tr th {\n",
       "        vertical-align: top;\n",
       "    }\n",
       "\n",
       "    .dataframe thead th {\n",
       "        text-align: right;\n",
       "    }\n",
       "</style>\n",
       "<table border=\"1\" class=\"dataframe\">\n",
       "  <thead>\n",
       "    <tr style=\"text-align: right;\">\n",
       "      <th>column</th>\n",
       "      <th>cellName</th>\n",
       "    </tr>\n",
       "  </thead>\n",
       "  <tbody>\n",
       "    <tr>\n",
       "      <th>E6.75</th>\n",
       "      <td>E6.75_Mesp1.GFP._KO_003</td>\n",
       "    </tr>\n",
       "    <tr>\n",
       "      <th>E6.75</th>\n",
       "      <td>E6.75_Mesp1.GFP._KO_004</td>\n",
       "    </tr>\n",
       "    <tr>\n",
       "      <th>E6.75</th>\n",
       "      <td>E6.75_Mesp1.GFP._KO_006</td>\n",
       "    </tr>\n",
       "    <tr>\n",
       "      <th>E6.75</th>\n",
       "      <td>E6.75_Mesp1.GFP._KO_007</td>\n",
       "    </tr>\n",
       "    <tr>\n",
       "      <th>E6.75</th>\n",
       "      <td>E6.75_Mesp1.GFP._KO_008</td>\n",
       "    </tr>\n",
       "  </tbody>\n",
       "</table>\n",
       "</div>"
      ],
      "text/plain": [
       "column                 cellName\n",
       "E6.75   E6.75_Mesp1.GFP._KO_003\n",
       "E6.75   E6.75_Mesp1.GFP._KO_004\n",
       "E6.75   E6.75_Mesp1.GFP._KO_006\n",
       "E6.75   E6.75_Mesp1.GFP._KO_007\n",
       "E6.75   E6.75_Mesp1.GFP._KO_008"
      ]
     },
     "execution_count": 42,
     "metadata": {},
     "output_type": "execute_result"
    }
   ],
   "source": [
    "df1.head()"
   ]
  },
  {
   "cell_type": "code",
   "execution_count": 67,
   "metadata": {},
   "outputs": [],
   "source": [
    "#df1.index"
   ]
  },
  {
   "cell_type": "code",
   "execution_count": 41,
   "metadata": {},
   "outputs": [],
   "source": [
    "df1.index = list(map(lambda x: x.split('_')[0], df1.index))"
   ]
  },
  {
   "cell_type": "code",
   "execution_count": 68,
   "metadata": {},
   "outputs": [],
   "source": [
    "#df2 = df1.as_matrix(columns=None)"
   ]
  },
  {
   "cell_type": "code",
   "execution_count": 11,
   "metadata": {
    "scrolled": true
   },
   "outputs": [
    {
     "data": {
      "text/plain": [
       "(576, 1)"
      ]
     },
     "execution_count": 11,
     "metadata": {},
     "output_type": "execute_result"
    }
   ],
   "source": [
    "#df2.shape"
   ]
  },
  {
   "cell_type": "code",
   "execution_count": 69,
   "metadata": {},
   "outputs": [],
   "source": [
    "#df1.head()"
   ]
  },
  {
   "cell_type": "code",
   "execution_count": 63,
   "metadata": {},
   "outputs": [],
   "source": [
    "#df1.index.tolist()"
   ]
  },
  {
   "cell_type": "code",
   "execution_count": 65,
   "metadata": {},
   "outputs": [],
   "source": [
    "df1['c'] = list(map(lambda x: x.split('_')[0], df1.index))"
   ]
  },
  {
   "cell_type": "code",
   "execution_count": 66,
   "metadata": {},
   "outputs": [
    {
     "data": {
      "text/html": [
       "<div>\n",
       "<style scoped>\n",
       "    .dataframe tbody tr th:only-of-type {\n",
       "        vertical-align: middle;\n",
       "    }\n",
       "\n",
       "    .dataframe tbody tr th {\n",
       "        vertical-align: top;\n",
       "    }\n",
       "\n",
       "    .dataframe thead th {\n",
       "        text-align: right;\n",
       "    }\n",
       "</style>\n",
       "<table border=\"1\" class=\"dataframe\">\n",
       "  <thead>\n",
       "    <tr style=\"text-align: right;\">\n",
       "      <th>column</th>\n",
       "      <th>cellName</th>\n",
       "      <th>c</th>\n",
       "    </tr>\n",
       "  </thead>\n",
       "  <tbody>\n",
       "    <tr>\n",
       "      <th>E6.75</th>\n",
       "      <td>E6.75_Mesp1.GFP._KO_003</td>\n",
       "      <td>E6.75</td>\n",
       "    </tr>\n",
       "    <tr>\n",
       "      <th>E6.75</th>\n",
       "      <td>E6.75_Mesp1.GFP._KO_004</td>\n",
       "      <td>E6.75</td>\n",
       "    </tr>\n",
       "    <tr>\n",
       "      <th>E6.75</th>\n",
       "      <td>E6.75_Mesp1.GFP._KO_006</td>\n",
       "      <td>E6.75</td>\n",
       "    </tr>\n",
       "    <tr>\n",
       "      <th>E6.75</th>\n",
       "      <td>E6.75_Mesp1.GFP._KO_007</td>\n",
       "      <td>E6.75</td>\n",
       "    </tr>\n",
       "    <tr>\n",
       "      <th>E6.75</th>\n",
       "      <td>E6.75_Mesp1.GFP._KO_008</td>\n",
       "      <td>E6.75</td>\n",
       "    </tr>\n",
       "  </tbody>\n",
       "</table>\n",
       "</div>"
      ],
      "text/plain": [
       "column                 cellName      c\n",
       "E6.75   E6.75_Mesp1.GFP._KO_003  E6.75\n",
       "E6.75   E6.75_Mesp1.GFP._KO_004  E6.75\n",
       "E6.75   E6.75_Mesp1.GFP._KO_006  E6.75\n",
       "E6.75   E6.75_Mesp1.GFP._KO_007  E6.75\n",
       "E6.75   E6.75_Mesp1.GFP._KO_008  E6.75"
      ]
     },
     "execution_count": 66,
     "metadata": {},
     "output_type": "execute_result"
    }
   ],
   "source": [
    "df1.head()"
   ]
  },
  {
   "cell_type": "code",
   "execution_count": 61,
   "metadata": {},
   "outputs": [],
   "source": [
    "#df1[:,'column']"
   ]
  },
  {
   "cell_type": "code",
   "execution_count": 70,
   "metadata": {},
   "outputs": [],
   "source": [
    "m = pd.DataFrame()"
   ]
  },
  {
   "cell_type": "code",
   "execution_count": 60,
   "metadata": {},
   "outputs": [],
   "source": [
    "#m = df1['column'] "
   ]
  },
  {
   "cell_type": "code",
   "execution_count": 59,
   "metadata": {},
   "outputs": [],
   "source": [
    "#df1.index = m"
   ]
  },
  {
   "cell_type": "code",
   "execution_count": null,
   "metadata": {},
   "outputs": [],
   "source": [
    "df.index.tolist()"
   ]
  },
  {
   "cell_type": "code",
   "execution_count": 12,
   "metadata": {},
   "outputs": [],
   "source": [
    "df3=pd.DataFrame(df2)"
   ]
  },
  {
   "cell_type": "code",
   "execution_count": 13,
   "metadata": {
    "scrolled": true
   },
   "outputs": [
    {
     "data": {
      "text/html": [
       "<div>\n",
       "<style scoped>\n",
       "    .dataframe tbody tr th:only-of-type {\n",
       "        vertical-align: middle;\n",
       "    }\n",
       "\n",
       "    .dataframe tbody tr th {\n",
       "        vertical-align: top;\n",
       "    }\n",
       "\n",
       "    .dataframe thead th {\n",
       "        text-align: right;\n",
       "    }\n",
       "</style>\n",
       "<table border=\"1\" class=\"dataframe\">\n",
       "  <thead>\n",
       "    <tr style=\"text-align: right;\">\n",
       "      <th></th>\n",
       "      <th>0</th>\n",
       "    </tr>\n",
       "  </thead>\n",
       "  <tbody>\n",
       "    <tr>\n",
       "      <th>0</th>\n",
       "      <td>E6.75_Mesp1.GFP._KO_003</td>\n",
       "    </tr>\n",
       "    <tr>\n",
       "      <th>1</th>\n",
       "      <td>E6.75_Mesp1.GFP._KO_004</td>\n",
       "    </tr>\n",
       "    <tr>\n",
       "      <th>2</th>\n",
       "      <td>E6.75_Mesp1.GFP._KO_006</td>\n",
       "    </tr>\n",
       "    <tr>\n",
       "      <th>3</th>\n",
       "      <td>E6.75_Mesp1.GFP._KO_007</td>\n",
       "    </tr>\n",
       "    <tr>\n",
       "      <th>4</th>\n",
       "      <td>E6.75_Mesp1.GFP._KO_008</td>\n",
       "    </tr>\n",
       "  </tbody>\n",
       "</table>\n",
       "</div>"
      ],
      "text/plain": [
       "                         0\n",
       "0  E6.75_Mesp1.GFP._KO_003\n",
       "1  E6.75_Mesp1.GFP._KO_004\n",
       "2  E6.75_Mesp1.GFP._KO_006\n",
       "3  E6.75_Mesp1.GFP._KO_007\n",
       "4  E6.75_Mesp1.GFP._KO_008"
      ]
     },
     "execution_count": 13,
     "metadata": {},
     "output_type": "execute_result"
    }
   ],
   "source": [
    "df3.head()\n"
   ]
  },
  {
   "cell_type": "code",
   "execution_count": 14,
   "metadata": {},
   "outputs": [
    {
     "data": {
      "text/plain": [
       "576"
      ]
     },
     "execution_count": 14,
     "metadata": {},
     "output_type": "execute_result"
    }
   ],
   "source": [
    "len (df2)"
   ]
  },
  {
   "cell_type": "code",
   "execution_count": 15,
   "metadata": {
    "scrolled": true
   },
   "outputs": [],
   "source": [
    "l = df2[1]"
   ]
  },
  {
   "cell_type": "code",
   "execution_count": 16,
   "metadata": {},
   "outputs": [
    {
     "name": "stdout",
     "output_type": "stream",
     "text": [
      "['E6.75_Mesp1.GFP._KO_004']\n"
     ]
    }
   ],
   "source": [
    "l\n",
    "print (l)"
   ]
  },
  {
   "cell_type": "code",
   "execution_count": 70,
   "metadata": {},
   "outputs": [],
   "source": [
    "#l.split('_')"
   ]
  },
  {
   "cell_type": "code",
   "execution_count": null,
   "metadata": {},
   "outputs": [],
   "source": [
    "#for i in len(df2): \n",
    "#    for ii in len(df1[])"
   ]
  },
  {
   "cell_type": "code",
   "execution_count": 71,
   "metadata": {},
   "outputs": [],
   "source": [
    "#new = df2.str.split(\"_\", n = 1, expand = True) "
   ]
  },
  {
   "cell_type": "code",
   "execution_count": 59,
   "metadata": {},
   "outputs": [
    {
     "name": "stdout",
     "output_type": "stream",
     "text": [
      "['E6.75_Mesp1.GFP._KO_004']\n"
     ]
    }
   ],
   "source": [
    "print (l)\n"
   ]
  },
  {
   "cell_type": "code",
   "execution_count": 69,
   "metadata": {},
   "outputs": [
    {
     "data": {
      "text/plain": [
       "\"['E6.75_Mesp1.GFP._KO_004']\""
      ]
     },
     "execution_count": 69,
     "metadata": {},
     "output_type": "execute_result"
    }
   ],
   "source": [
    "numpy.array2string(l)\n"
   ]
  },
  {
   "cell_type": "code",
   "execution_count": null,
   "metadata": {},
   "outputs": [],
   "source": []
  },
  {
   "cell_type": "code",
   "execution_count": null,
   "metadata": {},
   "outputs": [],
   "source": []
  },
  {
   "cell_type": "code",
   "execution_count": null,
   "metadata": {},
   "outputs": [],
   "source": []
  },
  {
   "cell_type": "code",
   "execution_count": null,
   "metadata": {},
   "outputs": [],
   "source": []
  }
 ],
 "metadata": {
  "kernelspec": {
   "display_name": "Python 3",
   "language": "python",
   "name": "python3"
  },
  "language_info": {
   "codemirror_mode": {
    "name": "ipython",
    "version": 3
   },
   "file_extension": ".py",
   "mimetype": "text/x-python",
   "name": "python",
   "nbconvert_exporter": "python",
   "pygments_lexer": "ipython3",
   "version": "3.7.1"
  }
 },
 "nbformat": 4,
 "nbformat_minor": 2
}
