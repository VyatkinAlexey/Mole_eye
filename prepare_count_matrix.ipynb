{
 "cells": [
  {
   "cell_type": "markdown",
   "metadata": {},
   "source": [
    "The idea is to get the count matrix with the right gene names so we can filter by mt genes and ERCC genes"
   ]
  },
  {
   "cell_type": "code",
   "execution_count": null,
   "metadata": {
    "ExecuteTime": {
     "end_time": "2018-11-13T13:18:18.823216Z",
     "start_time": "2018-11-13T13:18:18.801832Z"
    }
   },
   "outputs": [],
   "source": [
    "### import pandas as pd\n",
    "import numpy as np"
   ]
  },
  {
   "cell_type": "code",
   "execution_count": null,
   "metadata": {},
   "outputs": [],
   "source": [
    "if state = \"10x\":\n",
    "    !Rscript --vanilla get_10x_count_matrix.R /home/jupyter/Notebooks/KIRC/HSIEH/data/ filename\n",
    "else:\n",
    "    # checking for duplicates\n",
    "    \n",
    "    def get_set_of_duplicates(seq):\n",
    "        seen = set()\n",
    "        seen_add = seen.add\n",
    "\n",
    "        # adds all elements it doesn't know yet to seen and all other to seen_twice\n",
    "        seen_twice = set( x for x in seq if x in seen or seen_add(x) )\n",
    "\n",
    "        # turn the set into a list (as requested)\n",
    "        return seen_twice\n",
    "    \n",
    "    count_matrix = pd.read_csv(path, index_col=0)\n",
    "    gene_names = count_matrix.index\n",
    "    gene_duplicates = set_duplicates(gene_names)\n",
    "    \n",
    "    for index, gene in enumerate(gene_names):\n",
    "        if gene in gene_duplicates:\n",
    "            print(gene)\n",
    "            i = 1\n",
    "            while gene + '.' + str(i) in gene_names:\n",
    "                i += 1\n",
    "\n",
    "            gene_names[index] = gene + '.' + str(i)\n",
    "\n",
    "    # checking whether we really don't have duplicates now\n",
    "    gene_duplicates = get_set_of_duplicates(gene_names)\n",
    "    assert len(gene_duplicates) == 0\n",
    "    \n",
    "    count_matrix.to_csv(filename)"
   ]
  },
  {
   "cell_type": "code",
   "execution_count": null,
   "metadata": {},
   "outputs": [],
   "source": []
  },
  {
   "cell_type": "code",
   "execution_count": 48,
   "metadata": {
    "ExecuteTime": {
     "end_time": "2018-11-13T16:08:26.770747Z",
     "start_time": "2018-11-13T16:08:25.903437Z"
    }
   },
   "outputs": [],
   "source": [
    "path = \"/home/jupyter/Notebooks/KIRC/HSIEH/data/\"\n",
    "\n",
    "gene_table = pd.read_csv(path + \"genes.tsv\", sep=\"\\t\", header=None)"
   ]
  },
  {
   "cell_type": "code",
   "execution_count": 52,
   "metadata": {
    "ExecuteTime": {
     "end_time": "2018-11-13T16:11:14.549753Z",
     "start_time": "2018-11-13T16:11:00.386687Z"
    }
   },
   "outputs": [],
   "source": [
    "count_matrix = pd.read_csv(path + \"sample_HSIEH.csv\", index_col=0)"
   ]
  },
  {
   "cell_type": "code",
   "execution_count": 53,
   "metadata": {
    "ExecuteTime": {
     "end_time": "2018-11-13T16:11:14.585627Z",
     "start_time": "2018-11-13T16:11:14.554037Z"
    }
   },
   "outputs": [],
   "source": [
    "gene_name_dict = dict(zip(gene_table.iloc[:,0],gene_table.iloc[:,1]))\n",
    "gene_names = [gene_name_dict[index] for index in count_matrix.index]"
   ]
  },
  {
   "cell_type": "code",
   "execution_count": 54,
   "metadata": {
    "ExecuteTime": {
     "end_time": "2018-11-13T16:11:14.621718Z",
     "start_time": "2018-11-13T16:11:14.590334Z"
    }
   },
   "outputs": [
    {
     "data": {
      "text/html": [
       "<div>\n",
       "<style scoped>\n",
       "    .dataframe tbody tr th:only-of-type {\n",
       "        vertical-align: middle;\n",
       "    }\n",
       "\n",
       "    .dataframe tbody tr th {\n",
       "        vertical-align: top;\n",
       "    }\n",
       "\n",
       "    .dataframe thead th {\n",
       "        text-align: right;\n",
       "    }\n",
       "</style>\n",
       "<table border=\"1\" class=\"dataframe\">\n",
       "  <thead>\n",
       "    <tr style=\"text-align: right;\">\n",
       "      <th></th>\n",
       "      <th>AAACCTGCACAGACTT-1</th>\n",
       "      <th>AAACCTGCAGGTGGAT-1</th>\n",
       "      <th>AAACCTGGTAAATACG-1</th>\n",
       "      <th>AAACCTGTCACGCATA-1</th>\n",
       "      <th>AAACCTGTCTCCGGTT-1</th>\n",
       "      <th>AAACGGGGTCCAACTA-1</th>\n",
       "      <th>AAACGGGTCACAGGCC-1</th>\n",
       "      <th>AAACGGGTCGGATGTT-1</th>\n",
       "      <th>AAACGGGTCTGATTCT-1</th>\n",
       "      <th>AAAGATGAGGCAATTA-1</th>\n",
       "      <th>...</th>\n",
       "      <th>TTTATGCCATGCCTTC-1</th>\n",
       "      <th>TTTATGCGTCGGCATC-1</th>\n",
       "      <th>TTTCCTCAGTTACCCA-1</th>\n",
       "      <th>TTTCCTCCAAGCGAGT-1</th>\n",
       "      <th>TTTCCTCCAGAGCCAA-1</th>\n",
       "      <th>TTTCCTCTCACGAAGG-1</th>\n",
       "      <th>TTTGCGCAGGGCATGT-1</th>\n",
       "      <th>TTTGCGCGTTGCCTCT-1</th>\n",
       "      <th>TTTGCGCTCGTCGTTC-1</th>\n",
       "      <th>TTTGGTTTCTAACGGT-1</th>\n",
       "    </tr>\n",
       "  </thead>\n",
       "  <tbody>\n",
       "    <tr>\n",
       "      <th>ENSG00000223972.5</th>\n",
       "      <td>0</td>\n",
       "      <td>0</td>\n",
       "      <td>0</td>\n",
       "      <td>0</td>\n",
       "      <td>0</td>\n",
       "      <td>0</td>\n",
       "      <td>0</td>\n",
       "      <td>0</td>\n",
       "      <td>0</td>\n",
       "      <td>0</td>\n",
       "      <td>...</td>\n",
       "      <td>0</td>\n",
       "      <td>0</td>\n",
       "      <td>0</td>\n",
       "      <td>0</td>\n",
       "      <td>0</td>\n",
       "      <td>0</td>\n",
       "      <td>0</td>\n",
       "      <td>0</td>\n",
       "      <td>0</td>\n",
       "      <td>0</td>\n",
       "    </tr>\n",
       "    <tr>\n",
       "      <th>ENSG00000227232.5</th>\n",
       "      <td>0</td>\n",
       "      <td>0</td>\n",
       "      <td>0</td>\n",
       "      <td>0</td>\n",
       "      <td>0</td>\n",
       "      <td>0</td>\n",
       "      <td>0</td>\n",
       "      <td>0</td>\n",
       "      <td>0</td>\n",
       "      <td>0</td>\n",
       "      <td>...</td>\n",
       "      <td>0</td>\n",
       "      <td>0</td>\n",
       "      <td>0</td>\n",
       "      <td>0</td>\n",
       "      <td>0</td>\n",
       "      <td>0</td>\n",
       "      <td>0</td>\n",
       "      <td>0</td>\n",
       "      <td>0</td>\n",
       "      <td>0</td>\n",
       "    </tr>\n",
       "    <tr>\n",
       "      <th>ENSG00000278267.1</th>\n",
       "      <td>0</td>\n",
       "      <td>0</td>\n",
       "      <td>0</td>\n",
       "      <td>0</td>\n",
       "      <td>0</td>\n",
       "      <td>0</td>\n",
       "      <td>0</td>\n",
       "      <td>0</td>\n",
       "      <td>0</td>\n",
       "      <td>0</td>\n",
       "      <td>...</td>\n",
       "      <td>0</td>\n",
       "      <td>0</td>\n",
       "      <td>0</td>\n",
       "      <td>0</td>\n",
       "      <td>0</td>\n",
       "      <td>0</td>\n",
       "      <td>0</td>\n",
       "      <td>0</td>\n",
       "      <td>0</td>\n",
       "      <td>0</td>\n",
       "    </tr>\n",
       "    <tr>\n",
       "      <th>ENSG00000243485.3</th>\n",
       "      <td>0</td>\n",
       "      <td>0</td>\n",
       "      <td>0</td>\n",
       "      <td>0</td>\n",
       "      <td>0</td>\n",
       "      <td>0</td>\n",
       "      <td>0</td>\n",
       "      <td>0</td>\n",
       "      <td>0</td>\n",
       "      <td>0</td>\n",
       "      <td>...</td>\n",
       "      <td>0</td>\n",
       "      <td>0</td>\n",
       "      <td>0</td>\n",
       "      <td>0</td>\n",
       "      <td>0</td>\n",
       "      <td>0</td>\n",
       "      <td>0</td>\n",
       "      <td>0</td>\n",
       "      <td>0</td>\n",
       "      <td>0</td>\n",
       "    </tr>\n",
       "    <tr>\n",
       "      <th>ENSG00000274890.1</th>\n",
       "      <td>0</td>\n",
       "      <td>0</td>\n",
       "      <td>0</td>\n",
       "      <td>0</td>\n",
       "      <td>0</td>\n",
       "      <td>0</td>\n",
       "      <td>0</td>\n",
       "      <td>0</td>\n",
       "      <td>0</td>\n",
       "      <td>0</td>\n",
       "      <td>...</td>\n",
       "      <td>0</td>\n",
       "      <td>0</td>\n",
       "      <td>0</td>\n",
       "      <td>0</td>\n",
       "      <td>0</td>\n",
       "      <td>0</td>\n",
       "      <td>0</td>\n",
       "      <td>0</td>\n",
       "      <td>0</td>\n",
       "      <td>0</td>\n",
       "    </tr>\n",
       "  </tbody>\n",
       "</table>\n",
       "<p>5 rows × 1840 columns</p>\n",
       "</div>"
      ],
      "text/plain": [
       "                   AAACCTGCACAGACTT-1  AAACCTGCAGGTGGAT-1  AAACCTGGTAAATACG-1  \\\n",
       "ENSG00000223972.5                   0                   0                   0   \n",
       "ENSG00000227232.5                   0                   0                   0   \n",
       "ENSG00000278267.1                   0                   0                   0   \n",
       "ENSG00000243485.3                   0                   0                   0   \n",
       "ENSG00000274890.1                   0                   0                   0   \n",
       "\n",
       "                   AAACCTGTCACGCATA-1  AAACCTGTCTCCGGTT-1  AAACGGGGTCCAACTA-1  \\\n",
       "ENSG00000223972.5                   0                   0                   0   \n",
       "ENSG00000227232.5                   0                   0                   0   \n",
       "ENSG00000278267.1                   0                   0                   0   \n",
       "ENSG00000243485.3                   0                   0                   0   \n",
       "ENSG00000274890.1                   0                   0                   0   \n",
       "\n",
       "                   AAACGGGTCACAGGCC-1  AAACGGGTCGGATGTT-1  AAACGGGTCTGATTCT-1  \\\n",
       "ENSG00000223972.5                   0                   0                   0   \n",
       "ENSG00000227232.5                   0                   0                   0   \n",
       "ENSG00000278267.1                   0                   0                   0   \n",
       "ENSG00000243485.3                   0                   0                   0   \n",
       "ENSG00000274890.1                   0                   0                   0   \n",
       "\n",
       "                   AAAGATGAGGCAATTA-1         ...          TTTATGCCATGCCTTC-1  \\\n",
       "ENSG00000223972.5                   0         ...                           0   \n",
       "ENSG00000227232.5                   0         ...                           0   \n",
       "ENSG00000278267.1                   0         ...                           0   \n",
       "ENSG00000243485.3                   0         ...                           0   \n",
       "ENSG00000274890.1                   0         ...                           0   \n",
       "\n",
       "                   TTTATGCGTCGGCATC-1  TTTCCTCAGTTACCCA-1  TTTCCTCCAAGCGAGT-1  \\\n",
       "ENSG00000223972.5                   0                   0                   0   \n",
       "ENSG00000227232.5                   0                   0                   0   \n",
       "ENSG00000278267.1                   0                   0                   0   \n",
       "ENSG00000243485.3                   0                   0                   0   \n",
       "ENSG00000274890.1                   0                   0                   0   \n",
       "\n",
       "                   TTTCCTCCAGAGCCAA-1  TTTCCTCTCACGAAGG-1  TTTGCGCAGGGCATGT-1  \\\n",
       "ENSG00000223972.5                   0                   0                   0   \n",
       "ENSG00000227232.5                   0                   0                   0   \n",
       "ENSG00000278267.1                   0                   0                   0   \n",
       "ENSG00000243485.3                   0                   0                   0   \n",
       "ENSG00000274890.1                   0                   0                   0   \n",
       "\n",
       "                   TTTGCGCGTTGCCTCT-1  TTTGCGCTCGTCGTTC-1  TTTGGTTTCTAACGGT-1  \n",
       "ENSG00000223972.5                   0                   0                   0  \n",
       "ENSG00000227232.5                   0                   0                   0  \n",
       "ENSG00000278267.1                   0                   0                   0  \n",
       "ENSG00000243485.3                   0                   0                   0  \n",
       "ENSG00000274890.1                   0                   0                   0  \n",
       "\n",
       "[5 rows x 1840 columns]"
      ]
     },
     "execution_count": 54,
     "metadata": {},
     "output_type": "execute_result"
    }
   ],
   "source": [
    "count_matrix.head()"
   ]
  },
  {
   "cell_type": "code",
   "execution_count": 56,
   "metadata": {
    "ExecuteTime": {
     "end_time": "2018-11-13T16:11:48.392905Z",
     "start_time": "2018-11-13T16:11:48.384535Z"
    }
   },
   "outputs": [],
   "source": [
    "count_matrix.index = gene_names"
   ]
  },
  {
   "cell_type": "code",
   "execution_count": 58,
   "metadata": {
    "ExecuteTime": {
     "end_time": "2018-11-13T16:13:06.885345Z",
     "start_time": "2018-11-13T16:12:07.328806Z"
    }
   },
   "outputs": [],
   "source": [
    "count_matrix.to_csv(\"count_matrix.csv\")"
   ]
  },
  {
   "cell_type": "code",
   "execution_count": null,
   "metadata": {},
   "outputs": [],
   "source": []
  },
  {
   "cell_type": "code",
   "execution_count": 45,
   "metadata": {
    "ExecuteTime": {
     "end_time": "2018-11-13T16:05:10.091813Z",
     "start_time": "2018-11-13T16:03:36.953475Z"
    },
    "scrolled": false
   },
   "outputs": [
    {
     "name": "stdout",
     "output_type": "stream",
     "text": [
      "Loading required package: ggplot2\n",
      "Loading required package: cowplot\n",
      "\n",
      "Attaching package: ‘cowplot’\n",
      "\n",
      "The following object is masked from ‘package:ggplot2’:\n",
      "\n",
      "    ggsave\n",
      "\n",
      "Loading required package: Matrix\n",
      "Matrix was transferred successfully!"
     ]
    }
   ],
   "source": [
    "!python prepare_count_matrix.py -s 10x -p /home/jupyter/Notebooks/KIRC/HSIEH/data/ -o test.csv"
   ]
  },
  {
   "cell_type": "code",
   "execution_count": 61,
   "metadata": {
    "ExecuteTime": {
     "end_time": "2018-11-13T16:23:53.906305Z",
     "start_time": "2018-11-13T16:21:53.056772Z"
    },
    "scrolled": true
   },
   "outputs": [
    {
     "name": "stdout",
     "output_type": "stream",
     "text": [
      "Found 353 gene duplicates\n",
      "Matrix was transferred successfully!\n"
     ]
    }
   ],
   "source": [
    "!python prepare_count_matrix.py -s counts -p count_matrix.csv -o test3.csv"
   ]
  },
  {
   "cell_type": "code",
   "execution_count": null,
   "metadata": {},
   "outputs": [],
   "source": []
  }
 ],
 "metadata": {
  "kernelspec": {
   "display_name": "Python 3",
   "language": "python",
   "name": "python3"
  },
  "language_info": {
   "codemirror_mode": {
    "name": "ipython",
    "version": 3
   },
   "file_extension": ".py",
   "mimetype": "text/x-python",
   "name": "python",
   "nbconvert_exporter": "python",
   "pygments_lexer": "ipython3",
   "version": "3.7.1"
  },
  "toc": {
   "base_numbering": 1,
   "nav_menu": {},
   "number_sections": true,
   "sideBar": true,
   "skip_h1_title": false,
   "title_cell": "Table of Contents",
   "title_sidebar": "Contents",
   "toc_cell": false,
   "toc_position": {},
   "toc_section_display": true,
   "toc_window_display": false
  }
 },
 "nbformat": 4,
 "nbformat_minor": 2
}
