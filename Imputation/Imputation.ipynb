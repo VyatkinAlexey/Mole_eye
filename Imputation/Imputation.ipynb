{
 "cells": [
  {
   "cell_type": "code",
   "execution_count": 17,
   "metadata": {},
   "outputs": [],
   "source": [
    "import magic\n",
    "import pandas as pd\n",
    "import matplotlib.pyplot as plt\n",
    "import numpy as np"
   ]
  },
  {
   "cell_type": "code",
   "execution_count": 18,
   "metadata": {},
   "outputs": [],
   "source": [
    "def cut_gene(s):\n",
    "    return s.split('_')[0]"
   ]
  },
  {
   "cell_type": "code",
   "execution_count": 19,
   "metadata": {},
   "outputs": [],
   "source": [
    "path_atlas = \"/home/churkreev_group/chukreev/batch_effect/atlas_6_5_corrected.tsv\"\n",
    "atlas_data = pd.read_csv(path_atlas, delimiter='\\t', header=0)\n",
    "atlas_data = atlas_data.T"
   ]
  },
  {
   "cell_type": "code",
   "execution_count": 20,
   "metadata": {},
   "outputs": [],
   "source": [
    "atlas_data.columns = list(map(lambda x: cut_gene(x), atlas_data.columns))"
   ]
  },
  {
   "cell_type": "code",
   "execution_count": null,
   "metadata": {},
   "outputs": [],
   "source": [
    "count = dict()\n",
    "for gene in atlas_data.columns:\n",
    "    try:\n",
    "        count[gene]+=1\n",
    "    except:\n",
    "        count[gene]=1\n",
    "to_delete_atlas = []\n",
    "for gene in count.keys():\n",
    "    if count[gene]>1:\n",
    "        to_delete_atlas.append(gene)\n",
    "atlas_data = atlas_data.drop(to_delete_atlas, axis=1)"
   ]
  },
  {
   "cell_type": "code",
   "execution_count": 21,
   "metadata": {},
   "outputs": [],
   "source": [
    "path_exp = \"/home/churkreev_group/chukreev/batch_effect/experiment_6_5_corrected.tsv\"\n",
    "exp_data = pd.read_csv(path_exp, delimiter='\\t', header=0)\n",
    "exp_data = exp_data.T"
   ]
  },
  {
   "cell_type": "code",
   "execution_count": 22,
   "metadata": {},
   "outputs": [
    {
     "data": {
      "text/plain": [
       "3697"
      ]
     },
     "execution_count": 22,
     "metadata": {},
     "output_type": "execute_result"
    }
   ],
   "source": [
    "len(atlas_data)"
   ]
  },
  {
   "cell_type": "code",
   "execution_count": 23,
   "metadata": {},
   "outputs": [],
   "source": [
    "magic_op = magic.MAGIC()"
   ]
  },
  {
   "cell_type": "code",
   "execution_count": null,
   "metadata": {},
   "outputs": [],
   "source": [
    "exp_data.columns = list(map(lambda x: cut_gene(x), exp_data.columns))"
   ]
  },
  {
   "cell_type": "code",
   "execution_count": null,
   "metadata": {},
   "outputs": [],
   "source": [
    "count = dict()\n",
    "for gene in exp_data.columns:\n",
    "    try:\n",
    "        count[gene]+=1\n",
    "    except:\n",
    "        count[gene]=1\n",
    "to_delete_exp = []\n",
    "for gene in count.keys():\n",
    "    if count[gene]>1:\n",
    "        to_delete_exp.append(gene)\n",
    "exp_data = exp_data.drop(to_delete_exp, axis=1)"
   ]
  },
  {
   "cell_type": "code",
   "execution_count": 24,
   "metadata": {},
   "outputs": [
    {
     "data": {
      "text/html": [
       "<div>\n",
       "<style scoped>\n",
       "    .dataframe tbody tr th:only-of-type {\n",
       "        vertical-align: middle;\n",
       "    }\n",
       "\n",
       "    .dataframe tbody tr th {\n",
       "        vertical-align: top;\n",
       "    }\n",
       "\n",
       "    .dataframe thead th {\n",
       "        text-align: right;\n",
       "    }\n",
       "</style>\n",
       "<table border=\"1\" class=\"dataframe\">\n",
       "  <thead>\n",
       "    <tr style=\"text-align: right;\">\n",
       "      <th></th>\n",
       "      <th>Sox17</th>\n",
       "      <th>Mrpl15</th>\n",
       "      <th>Lypla1</th>\n",
       "      <th>Tcea1</th>\n",
       "      <th>Atp6v1h</th>\n",
       "      <th>Rb1cc1</th>\n",
       "      <th>Pcmtd1</th>\n",
       "      <th>Rrs1</th>\n",
       "      <th>Mybl1</th>\n",
       "      <th>Vcpip1</th>\n",
       "      <th>...</th>\n",
       "      <th>Slc18a2</th>\n",
       "      <th>Pdzd8</th>\n",
       "      <th>Rab11fip2</th>\n",
       "      <th>Nanos1</th>\n",
       "      <th>Eif3a</th>\n",
       "      <th>Fam45a</th>\n",
       "      <th>Sfxn4</th>\n",
       "      <th>Prdx3</th>\n",
       "      <th>Zfp950</th>\n",
       "      <th>Csf2ra</th>\n",
       "    </tr>\n",
       "  </thead>\n",
       "  <tbody>\n",
       "    <tr>\n",
       "      <th>E6.5_cell10_embryo2_single</th>\n",
       "      <td>0.004070</td>\n",
       "      <td>0.005161</td>\n",
       "      <td>0.002799</td>\n",
       "      <td>0.000928</td>\n",
       "      <td>-0.001304</td>\n",
       "      <td>0.002492</td>\n",
       "      <td>0.001459</td>\n",
       "      <td>0.006709</td>\n",
       "      <td>-0.000579</td>\n",
       "      <td>0.001541</td>\n",
       "      <td>...</td>\n",
       "      <td>-0.000603</td>\n",
       "      <td>0.002340</td>\n",
       "      <td>-0.000203</td>\n",
       "      <td>-0.000347</td>\n",
       "      <td>0.007595</td>\n",
       "      <td>0.000365</td>\n",
       "      <td>-0.000414</td>\n",
       "      <td>-0.003911</td>\n",
       "      <td>-0.000151</td>\n",
       "      <td>0.001012</td>\n",
       "    </tr>\n",
       "    <tr>\n",
       "      <th>E6.5_cell11_embryo2_single</th>\n",
       "      <td>0.001967</td>\n",
       "      <td>0.002648</td>\n",
       "      <td>0.002087</td>\n",
       "      <td>-0.002360</td>\n",
       "      <td>-0.000106</td>\n",
       "      <td>-0.003548</td>\n",
       "      <td>0.005929</td>\n",
       "      <td>0.009067</td>\n",
       "      <td>0.001794</td>\n",
       "      <td>-0.001321</td>\n",
       "      <td>...</td>\n",
       "      <td>-0.000677</td>\n",
       "      <td>0.000185</td>\n",
       "      <td>-0.000205</td>\n",
       "      <td>-0.000305</td>\n",
       "      <td>0.008658</td>\n",
       "      <td>-0.000339</td>\n",
       "      <td>-0.000941</td>\n",
       "      <td>0.004321</td>\n",
       "      <td>0.000041</td>\n",
       "      <td>-0.000010</td>\n",
       "    </tr>\n",
       "    <tr>\n",
       "      <th>E6.5_cell12_embryo2_single</th>\n",
       "      <td>0.003091</td>\n",
       "      <td>0.009266</td>\n",
       "      <td>0.000196</td>\n",
       "      <td>0.001651</td>\n",
       "      <td>-0.002508</td>\n",
       "      <td>0.001673</td>\n",
       "      <td>-0.000400</td>\n",
       "      <td>0.010206</td>\n",
       "      <td>-0.000471</td>\n",
       "      <td>0.003243</td>\n",
       "      <td>...</td>\n",
       "      <td>-0.000569</td>\n",
       "      <td>0.000015</td>\n",
       "      <td>-0.000182</td>\n",
       "      <td>-0.000237</td>\n",
       "      <td>0.008076</td>\n",
       "      <td>0.001101</td>\n",
       "      <td>0.002440</td>\n",
       "      <td>0.004150</td>\n",
       "      <td>-0.000151</td>\n",
       "      <td>0.000028</td>\n",
       "    </tr>\n",
       "    <tr>\n",
       "      <th>E6.5_cell19_embryo2_single</th>\n",
       "      <td>0.002647</td>\n",
       "      <td>0.006504</td>\n",
       "      <td>-0.001299</td>\n",
       "      <td>0.001873</td>\n",
       "      <td>0.000691</td>\n",
       "      <td>0.000998</td>\n",
       "      <td>-0.001867</td>\n",
       "      <td>0.007755</td>\n",
       "      <td>0.003560</td>\n",
       "      <td>0.003955</td>\n",
       "      <td>...</td>\n",
       "      <td>-0.000496</td>\n",
       "      <td>-0.003015</td>\n",
       "      <td>-0.000157</td>\n",
       "      <td>-0.000234</td>\n",
       "      <td>0.004465</td>\n",
       "      <td>0.004983</td>\n",
       "      <td>-0.000727</td>\n",
       "      <td>0.003255</td>\n",
       "      <td>-0.000147</td>\n",
       "      <td>0.003819</td>\n",
       "    </tr>\n",
       "    <tr>\n",
       "      <th>E6.5_cell22_embryo2_single</th>\n",
       "      <td>0.006958</td>\n",
       "      <td>0.006851</td>\n",
       "      <td>-0.001317</td>\n",
       "      <td>0.001097</td>\n",
       "      <td>-0.005306</td>\n",
       "      <td>-0.001696</td>\n",
       "      <td>0.005181</td>\n",
       "      <td>0.006504</td>\n",
       "      <td>-0.000610</td>\n",
       "      <td>0.004686</td>\n",
       "      <td>...</td>\n",
       "      <td>-0.000618</td>\n",
       "      <td>-0.002599</td>\n",
       "      <td>-0.000209</td>\n",
       "      <td>0.003036</td>\n",
       "      <td>0.008703</td>\n",
       "      <td>0.001709</td>\n",
       "      <td>-0.000982</td>\n",
       "      <td>0.002950</td>\n",
       "      <td>-0.000153</td>\n",
       "      <td>-0.000031</td>\n",
       "    </tr>\n",
       "  </tbody>\n",
       "</table>\n",
       "<p>5 rows × 11037 columns</p>\n",
       "</div>"
      ],
      "text/plain": [
       "                               Sox17    Mrpl15    Lypla1     Tcea1   Atp6v1h  \\\n",
       "E6.5_cell10_embryo2_single  0.004070  0.005161  0.002799  0.000928 -0.001304   \n",
       "E6.5_cell11_embryo2_single  0.001967  0.002648  0.002087 -0.002360 -0.000106   \n",
       "E6.5_cell12_embryo2_single  0.003091  0.009266  0.000196  0.001651 -0.002508   \n",
       "E6.5_cell19_embryo2_single  0.002647  0.006504 -0.001299  0.001873  0.000691   \n",
       "E6.5_cell22_embryo2_single  0.006958  0.006851 -0.001317  0.001097 -0.005306   \n",
       "\n",
       "                              Rb1cc1    Pcmtd1      Rrs1     Mybl1    Vcpip1  \\\n",
       "E6.5_cell10_embryo2_single  0.002492  0.001459  0.006709 -0.000579  0.001541   \n",
       "E6.5_cell11_embryo2_single -0.003548  0.005929  0.009067  0.001794 -0.001321   \n",
       "E6.5_cell12_embryo2_single  0.001673 -0.000400  0.010206 -0.000471  0.003243   \n",
       "E6.5_cell19_embryo2_single  0.000998 -0.001867  0.007755  0.003560  0.003955   \n",
       "E6.5_cell22_embryo2_single -0.001696  0.005181  0.006504 -0.000610  0.004686   \n",
       "\n",
       "                              ...      Slc18a2     Pdzd8  Rab11fip2    Nanos1  \\\n",
       "E6.5_cell10_embryo2_single    ...    -0.000603  0.002340  -0.000203 -0.000347   \n",
       "E6.5_cell11_embryo2_single    ...    -0.000677  0.000185  -0.000205 -0.000305   \n",
       "E6.5_cell12_embryo2_single    ...    -0.000569  0.000015  -0.000182 -0.000237   \n",
       "E6.5_cell19_embryo2_single    ...    -0.000496 -0.003015  -0.000157 -0.000234   \n",
       "E6.5_cell22_embryo2_single    ...    -0.000618 -0.002599  -0.000209  0.003036   \n",
       "\n",
       "                               Eif3a    Fam45a     Sfxn4     Prdx3    Zfp950  \\\n",
       "E6.5_cell10_embryo2_single  0.007595  0.000365 -0.000414 -0.003911 -0.000151   \n",
       "E6.5_cell11_embryo2_single  0.008658 -0.000339 -0.000941  0.004321  0.000041   \n",
       "E6.5_cell12_embryo2_single  0.008076  0.001101  0.002440  0.004150 -0.000151   \n",
       "E6.5_cell19_embryo2_single  0.004465  0.004983 -0.000727  0.003255 -0.000147   \n",
       "E6.5_cell22_embryo2_single  0.008703  0.001709 -0.000982  0.002950 -0.000153   \n",
       "\n",
       "                              Csf2ra  \n",
       "E6.5_cell10_embryo2_single  0.001012  \n",
       "E6.5_cell11_embryo2_single -0.000010  \n",
       "E6.5_cell12_embryo2_single  0.000028  \n",
       "E6.5_cell19_embryo2_single  0.003819  \n",
       "E6.5_cell22_embryo2_single -0.000031  \n",
       "\n",
       "[5 rows x 11037 columns]"
      ]
     },
     "execution_count": 24,
     "metadata": {},
     "output_type": "execute_result"
    }
   ],
   "source": [
    "exp_data.head()"
   ]
  },
  {
   "cell_type": "code",
   "execution_count": 7,
   "metadata": {},
   "outputs": [
    {
     "data": {
      "text/plain": [
       "576"
      ]
     },
     "execution_count": 7,
     "metadata": {},
     "output_type": "execute_result"
    }
   ],
   "source": [
    "len(exp_data)"
   ]
  },
  {
   "cell_type": "code",
   "execution_count": 8,
   "metadata": {},
   "outputs": [
    {
     "data": {
      "text/plain": [
       "11871"
      ]
     },
     "execution_count": 8,
     "metadata": {},
     "output_type": "execute_result"
    }
   ],
   "source": [
    "len(exp_data.columns)"
   ]
  },
  {
   "cell_type": "code",
   "execution_count": 9,
   "metadata": {},
   "outputs": [],
   "source": [
    "unique_columns = sorted(list(set(atlas_data.columns).intersection(set(exp_data.columns))) )"
   ]
  },
  {
   "cell_type": "code",
   "execution_count": null,
   "metadata": {},
   "outputs": [],
   "source": [
    "exp_data = exp_data[unique_columns]"
   ]
  },
  {
   "cell_type": "code",
   "execution_count": null,
   "metadata": {},
   "outputs": [],
   "source": [
    "atlas_data = atlas_data[exp_data.columns]"
   ]
  },
  {
   "cell_type": "code",
   "execution_count": 25,
   "metadata": {},
   "outputs": [],
   "source": [
    "joined_data = atlas_data.append(exp_data)"
   ]
  },
  {
   "cell_type": "code",
   "execution_count": 26,
   "metadata": {},
   "outputs": [
    {
     "data": {
      "text/plain": [
       "11037"
      ]
     },
     "execution_count": 26,
     "metadata": {},
     "output_type": "execute_result"
    }
   ],
   "source": [
    "len(joined_data.columns)"
   ]
  },
  {
   "cell_type": "code",
   "execution_count": 27,
   "metadata": {},
   "outputs": [
    {
     "name": "stdout",
     "output_type": "stream",
     "text": [
      "Calculating MAGIC...\n",
      "  Running MAGIC on 3864 cells and 11037 genes.\n",
      "  Calculating graph and diffusion operator...\n",
      "    Calculating PCA...\n"
     ]
    },
    {
     "name": "stderr",
     "output_type": "stream",
     "text": [
      "/home/churkreev_group/.local/lib/python3.7/site-packages/magic/magic.py:376: UserWarning: Input matrix contains unexpressed genes. Please remove them prior to running MAGIC.\n",
      "  warnings.warn(\"Input matrix contains unexpressed genes. \"\n"
     ]
    },
    {
     "name": "stdout",
     "output_type": "stream",
     "text": [
      "    Calculated PCA in 2.41 seconds.\n",
      "    Calculating KNN search...\n",
      "    Calculated KNN search in 2.16 seconds.\n",
      "    Calculating affinities...\n",
      "    Calculated affinities in 1.15 seconds.\n",
      "  Calculated graph and diffusion operator in 5.78 seconds.\n",
      "  Calculating imputation...\n",
      "    Automatically selected t = 7\n",
      "  Calculated imputation in 0.46 seconds.\n",
      "Calculated MAGIC in 6.68 seconds.\n"
     ]
    }
   ],
   "source": [
    "X_magic = magic_op.fit_transform(joined_data)"
   ]
  },
  {
   "cell_type": "code",
   "execution_count": null,
   "metadata": {},
   "outputs": [],
   "source": [
    "X_magic.iloc[len(atlas_data):,:].head()"
   ]
  },
  {
   "cell_type": "code",
   "execution_count": 28,
   "metadata": {},
   "outputs": [],
   "source": [
    "imputed_exp = X_magic.iloc[len(atlas_data):, :]"
   ]
  },
  {
   "cell_type": "code",
   "execution_count": 29,
   "metadata": {},
   "outputs": [
    {
     "data": {
      "text/html": [
       "<div>\n",
       "<style scoped>\n",
       "    .dataframe tbody tr th:only-of-type {\n",
       "        vertical-align: middle;\n",
       "    }\n",
       "\n",
       "    .dataframe tbody tr th {\n",
       "        vertical-align: top;\n",
       "    }\n",
       "\n",
       "    .dataframe thead th {\n",
       "        text-align: right;\n",
       "    }\n",
       "</style>\n",
       "<table border=\"1\" class=\"dataframe\">\n",
       "  <thead>\n",
       "    <tr style=\"text-align: right;\">\n",
       "      <th></th>\n",
       "      <th>Sox17</th>\n",
       "      <th>Mrpl15</th>\n",
       "      <th>Lypla1</th>\n",
       "      <th>Tcea1</th>\n",
       "      <th>Atp6v1h</th>\n",
       "      <th>Rb1cc1</th>\n",
       "      <th>Pcmtd1</th>\n",
       "      <th>Rrs1</th>\n",
       "      <th>Mybl1</th>\n",
       "      <th>Vcpip1</th>\n",
       "      <th>...</th>\n",
       "      <th>Slc18a2</th>\n",
       "      <th>Pdzd8</th>\n",
       "      <th>Rab11fip2</th>\n",
       "      <th>Nanos1</th>\n",
       "      <th>Eif3a</th>\n",
       "      <th>Fam45a</th>\n",
       "      <th>Sfxn4</th>\n",
       "      <th>Prdx3</th>\n",
       "      <th>Zfp950</th>\n",
       "      <th>Csf2ra</th>\n",
       "    </tr>\n",
       "  </thead>\n",
       "  <tbody>\n",
       "    <tr>\n",
       "      <th>E6.5_cell10_embryo2_single</th>\n",
       "      <td>0.002682</td>\n",
       "      <td>0.006431</td>\n",
       "      <td>0.001279</td>\n",
       "      <td>0.001290</td>\n",
       "      <td>0.000064</td>\n",
       "      <td>0.000151</td>\n",
       "      <td>0.000109</td>\n",
       "      <td>0.006666</td>\n",
       "      <td>-0.000022</td>\n",
       "      <td>0.000481</td>\n",
       "      <td>...</td>\n",
       "      <td>-0.000141</td>\n",
       "      <td>0.000188</td>\n",
       "      <td>0.000005</td>\n",
       "      <td>0.000191</td>\n",
       "      <td>0.007004</td>\n",
       "      <td>0.000097</td>\n",
       "      <td>-0.000065</td>\n",
       "      <td>0.002626</td>\n",
       "      <td>0.000016</td>\n",
       "      <td>0.000240</td>\n",
       "    </tr>\n",
       "    <tr>\n",
       "      <th>E6.5_cell11_embryo2_single</th>\n",
       "      <td>0.002834</td>\n",
       "      <td>0.006560</td>\n",
       "      <td>0.001438</td>\n",
       "      <td>0.001275</td>\n",
       "      <td>0.000120</td>\n",
       "      <td>0.000158</td>\n",
       "      <td>0.000124</td>\n",
       "      <td>0.006549</td>\n",
       "      <td>-0.000022</td>\n",
       "      <td>0.000461</td>\n",
       "      <td>...</td>\n",
       "      <td>-0.000128</td>\n",
       "      <td>0.000210</td>\n",
       "      <td>0.000008</td>\n",
       "      <td>0.000183</td>\n",
       "      <td>0.006942</td>\n",
       "      <td>0.000120</td>\n",
       "      <td>-0.000066</td>\n",
       "      <td>0.002574</td>\n",
       "      <td>0.000027</td>\n",
       "      <td>0.000238</td>\n",
       "    </tr>\n",
       "    <tr>\n",
       "      <th>E6.5_cell12_embryo2_single</th>\n",
       "      <td>0.002246</td>\n",
       "      <td>0.006988</td>\n",
       "      <td>0.001335</td>\n",
       "      <td>0.001311</td>\n",
       "      <td>0.000185</td>\n",
       "      <td>0.000135</td>\n",
       "      <td>0.000158</td>\n",
       "      <td>0.006398</td>\n",
       "      <td>-0.000008</td>\n",
       "      <td>0.000405</td>\n",
       "      <td>...</td>\n",
       "      <td>-0.000060</td>\n",
       "      <td>0.000251</td>\n",
       "      <td>0.000020</td>\n",
       "      <td>0.000180</td>\n",
       "      <td>0.006694</td>\n",
       "      <td>0.000146</td>\n",
       "      <td>-0.000046</td>\n",
       "      <td>0.002525</td>\n",
       "      <td>0.000044</td>\n",
       "      <td>0.000228</td>\n",
       "    </tr>\n",
       "    <tr>\n",
       "      <th>E6.5_cell19_embryo2_single</th>\n",
       "      <td>0.002246</td>\n",
       "      <td>0.006769</td>\n",
       "      <td>0.001232</td>\n",
       "      <td>0.001285</td>\n",
       "      <td>0.000156</td>\n",
       "      <td>0.000138</td>\n",
       "      <td>0.000126</td>\n",
       "      <td>0.006486</td>\n",
       "      <td>-0.000013</td>\n",
       "      <td>0.000436</td>\n",
       "      <td>...</td>\n",
       "      <td>-0.000097</td>\n",
       "      <td>0.000207</td>\n",
       "      <td>0.000013</td>\n",
       "      <td>0.000178</td>\n",
       "      <td>0.006876</td>\n",
       "      <td>0.000114</td>\n",
       "      <td>-0.000049</td>\n",
       "      <td>0.002571</td>\n",
       "      <td>0.000030</td>\n",
       "      <td>0.000233</td>\n",
       "    </tr>\n",
       "    <tr>\n",
       "      <th>E6.5_cell22_embryo2_single</th>\n",
       "      <td>0.002744</td>\n",
       "      <td>0.006377</td>\n",
       "      <td>0.001283</td>\n",
       "      <td>0.001287</td>\n",
       "      <td>0.000053</td>\n",
       "      <td>0.000152</td>\n",
       "      <td>0.000105</td>\n",
       "      <td>0.006692</td>\n",
       "      <td>-0.000023</td>\n",
       "      <td>0.000489</td>\n",
       "      <td>...</td>\n",
       "      <td>-0.000150</td>\n",
       "      <td>0.000182</td>\n",
       "      <td>0.000004</td>\n",
       "      <td>0.000192</td>\n",
       "      <td>0.007029</td>\n",
       "      <td>0.000094</td>\n",
       "      <td>-0.000067</td>\n",
       "      <td>0.002636</td>\n",
       "      <td>0.000013</td>\n",
       "      <td>0.000241</td>\n",
       "    </tr>\n",
       "  </tbody>\n",
       "</table>\n",
       "<p>5 rows × 11037 columns</p>\n",
       "</div>"
      ],
      "text/plain": [
       "                               Sox17    Mrpl15    Lypla1     Tcea1   Atp6v1h  \\\n",
       "E6.5_cell10_embryo2_single  0.002682  0.006431  0.001279  0.001290  0.000064   \n",
       "E6.5_cell11_embryo2_single  0.002834  0.006560  0.001438  0.001275  0.000120   \n",
       "E6.5_cell12_embryo2_single  0.002246  0.006988  0.001335  0.001311  0.000185   \n",
       "E6.5_cell19_embryo2_single  0.002246  0.006769  0.001232  0.001285  0.000156   \n",
       "E6.5_cell22_embryo2_single  0.002744  0.006377  0.001283  0.001287  0.000053   \n",
       "\n",
       "                              Rb1cc1    Pcmtd1      Rrs1     Mybl1    Vcpip1  \\\n",
       "E6.5_cell10_embryo2_single  0.000151  0.000109  0.006666 -0.000022  0.000481   \n",
       "E6.5_cell11_embryo2_single  0.000158  0.000124  0.006549 -0.000022  0.000461   \n",
       "E6.5_cell12_embryo2_single  0.000135  0.000158  0.006398 -0.000008  0.000405   \n",
       "E6.5_cell19_embryo2_single  0.000138  0.000126  0.006486 -0.000013  0.000436   \n",
       "E6.5_cell22_embryo2_single  0.000152  0.000105  0.006692 -0.000023  0.000489   \n",
       "\n",
       "                              ...      Slc18a2     Pdzd8  Rab11fip2    Nanos1  \\\n",
       "E6.5_cell10_embryo2_single    ...    -0.000141  0.000188   0.000005  0.000191   \n",
       "E6.5_cell11_embryo2_single    ...    -0.000128  0.000210   0.000008  0.000183   \n",
       "E6.5_cell12_embryo2_single    ...    -0.000060  0.000251   0.000020  0.000180   \n",
       "E6.5_cell19_embryo2_single    ...    -0.000097  0.000207   0.000013  0.000178   \n",
       "E6.5_cell22_embryo2_single    ...    -0.000150  0.000182   0.000004  0.000192   \n",
       "\n",
       "                               Eif3a    Fam45a     Sfxn4     Prdx3    Zfp950  \\\n",
       "E6.5_cell10_embryo2_single  0.007004  0.000097 -0.000065  0.002626  0.000016   \n",
       "E6.5_cell11_embryo2_single  0.006942  0.000120 -0.000066  0.002574  0.000027   \n",
       "E6.5_cell12_embryo2_single  0.006694  0.000146 -0.000046  0.002525  0.000044   \n",
       "E6.5_cell19_embryo2_single  0.006876  0.000114 -0.000049  0.002571  0.000030   \n",
       "E6.5_cell22_embryo2_single  0.007029  0.000094 -0.000067  0.002636  0.000013   \n",
       "\n",
       "                              Csf2ra  \n",
       "E6.5_cell10_embryo2_single  0.000240  \n",
       "E6.5_cell11_embryo2_single  0.000238  \n",
       "E6.5_cell12_embryo2_single  0.000228  \n",
       "E6.5_cell19_embryo2_single  0.000233  \n",
       "E6.5_cell22_embryo2_single  0.000241  \n",
       "\n",
       "[5 rows x 11037 columns]"
      ]
     },
     "execution_count": 29,
     "metadata": {},
     "output_type": "execute_result"
    }
   ],
   "source": [
    "imputed_exp.head()"
   ]
  },
  {
   "cell_type": "code",
   "execution_count": 30,
   "metadata": {},
   "outputs": [],
   "source": [
    "imputed_exp = imputed_exp.T"
   ]
  },
  {
   "cell_type": "code",
   "execution_count": null,
   "metadata": {},
   "outputs": [],
   "source": [
    "min_val = np.min(imputed_exp)"
   ]
  },
  {
   "cell_type": "code",
   "execution_count": null,
   "metadata": {},
   "outputs": [],
   "source": [
    "min_min_val = np.min(min_val)"
   ]
  },
  {
   "cell_type": "code",
   "execution_count": null,
   "metadata": {},
   "outputs": [],
   "source": [
    "imputed_exp = imputed_exp + 1.01 * abs(min_min_val)"
   ]
  },
  {
   "cell_type": "code",
   "execution_count": 31,
   "metadata": {},
   "outputs": [],
   "source": [
    "path_imputed = path_exp+\"_imputed\""
   ]
  },
  {
   "cell_type": "code",
   "execution_count": 32,
   "metadata": {},
   "outputs": [],
   "source": [
    "imputed_exp.to_csv(path_imputed, sep='\\t', columns=imputed_exp.columns, index=True)"
   ]
  },
  {
   "cell_type": "markdown",
   "metadata": {},
   "source": [
    "# Finish"
   ]
  },
  {
   "cell_type": "code",
   "execution_count": null,
   "metadata": {},
   "outputs": [],
   "source": [
    "from tqdm import tqdm"
   ]
  },
  {
   "cell_type": "code",
   "execution_count": null,
   "metadata": {},
   "outputs": [],
   "source": [
    "def extract(s):\n",
    "    return s.split('_')[1]"
   ]
  },
  {
   "cell_type": "code",
   "execution_count": null,
   "metadata": {},
   "outputs": [],
   "source": [
    "# Select day 7.25\n",
    "required_day = \"E7.25\"\n",
    "cells_in_7_25 = set()\n",
    "N = 0\n",
    "path_to_meta = \"/home/churkreev_group/vyatkin/data/E_65_85/EmbryoTimecourse2018/download/atlas/meta.tab\"\n",
    "f = open(path_to_meta, 'r')\n",
    "first = f.readline()\n",
    "cell = f.readline()\n",
    "leng = 139332\n",
    "for i in tqdm(range(leng-1)):\n",
    "    if cell.split()[3]==required_day:\n",
    "        cells_in_7_25.add(extract(cell.split()[0]))\n",
    "        N += 1\n",
    "    cell = f.readline()\n",
    "f.close()"
   ]
  },
  {
   "cell_type": "code",
   "execution_count": null,
   "metadata": {},
   "outputs": [],
   "source": [
    "len(cells_in_7_25)"
   ]
  },
  {
   "cell_type": "code",
   "execution_count": null,
   "metadata": {},
   "outputs": [],
   "source": [
    "cells_in_7_25 = np.sort(np.array(list(cells_in_7_25), dtype=int))"
   ]
  },
  {
   "cell_type": "code",
   "execution_count": null,
   "metadata": {},
   "outputs": [],
   "source": [
    "cell_id_to_barcode_index = dict()\n",
    "for i in range(len(cells_in_7_25)):\n",
    "    cell_id_to_barcode_index[int(cells_in_7_25[i])] = i+1"
   ]
  },
  {
   "cell_type": "code",
   "execution_count": null,
   "metadata": {},
   "outputs": [],
   "source": [
    "number_of_cells = 139331\n",
    "path_to_barcodes = \"/home/churkreev_group/vyatkin/data/E_65_85/EmbryoTimecourse2018/download/atlas/barcodes.tsv\"\n",
    "path_to_new_barcodes = \"/home/churkreev_group/vyatkin/data/E_65_85/EmbryoTimecourse2018/download/atlas_E_7_25/barcodes.tsv\"\n",
    "f = open(path_to_barcodes, 'r')\n",
    "g = open(path_to_new_barcodes, 'w')\n",
    "for i in tqdm(range(number_of_cells)):\n",
    "    cell_number = int(str(i+1))\n",
    "    if cell_number in cells_in_7_25:\n",
    "        g.write(\"cell_{0}{1}\".format(str(cell_number), '\\n'))\n",
    "g.close()\n",
    "f.close()"
   ]
  },
  {
   "cell_type": "code",
   "execution_count": null,
   "metadata": {},
   "outputs": [],
   "source": [
    "for_labels = \"/home/churkreev_group/data_E3.5_to_E6.5/output_tables/MoleEye_colData.tsv\"\n",
    "labels = pd.read_table(for_labels, header=0, sep='\\t')"
   ]
  },
  {
   "cell_type": "code",
   "execution_count": null,
   "metadata": {},
   "outputs": [],
   "source": [
    "labels = labels[[\"E6.5\" in x for x in np.array(labels.index)]][\"clusters\"]"
   ]
  },
  {
   "cell_type": "code",
   "execution_count": null,
   "metadata": {},
   "outputs": [],
   "source": [
    "to = \"/home/churkreev_group/day6.5_labels\"\n",
    "labels.to_csv(to, sep='\\t')"
   ]
  }
 ],
 "metadata": {
  "kernelspec": {
   "display_name": "Python 3",
   "language": "python",
   "name": "python3"
  },
  "language_info": {
   "codemirror_mode": {
    "name": "ipython",
    "version": 3
   },
   "file_extension": ".py",
   "mimetype": "text/x-python",
   "name": "python",
   "nbconvert_exporter": "python",
   "pygments_lexer": "ipython3",
   "version": "3.7.1"
  }
 },
 "nbformat": 4,
 "nbformat_minor": 2
}
