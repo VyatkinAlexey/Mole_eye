{
 "cells": [
  {
   "cell_type": "markdown",
   "metadata": {},
   "source": [
    "# Seurat version"
   ]
  },
  {
   "cell_type": "markdown",
   "metadata": {},
   "source": [
    "Taken from: https://satijalab.org/seurat/pbmc3k_tutorial.html"
   ]
  },
  {
   "cell_type": "code",
   "execution_count": 1,
   "metadata": {
    "ExecuteTime": {
     "end_time": "2018-11-13T18:27:09.688241Z",
     "start_time": "2018-11-13T18:27:09.363Z"
    }
   },
   "outputs": [],
   "source": [
    "a = 1"
   ]
  },
  {
   "cell_type": "code",
   "execution_count": 20,
   "metadata": {
    "ExecuteTime": {
     "end_time": "2018-11-08T14:16:53.644890Z",
     "start_time": "2018-11-08T14:16:53.544Z"
    }
   },
   "outputs": [],
   "source": [
    "normalisation_qc_seurat <- function(file, output=\"seurat_normalised_object.rds\"){\n",
    "    \n",
    "    library(Seurat)\n",
    "    library(dplyr)\n",
    "    \n",
    "    raw_data <- read.csv(file, row.names=1)\n",
    "    \n",
    "    # creating seurat object \n",
    "    seurat_object <- CreateSeuratObject(raw.data = raw_data, min.cells = 3, min.genes = 200, \n",
    "    project = \"single_cell\")\n",
    "    \n",
    "    # QC and selecting cells for further analysis\n",
    "    mito.genes <- grep(pattern = \"^MT-\", x = rownames(x = seurat_object@data), value = TRUE)\n",
    "    percent.mito <- Matrix::colSums(seurat_object@raw.data[mito.genes, ])/Matrix::colSums(seurat_object@raw.data)\n",
    "\n",
    "    # AddMetaData adds columns to object@meta.data, and is a great place to\n",
    "    # stash QC stats\n",
    "    seurat_object <- AddMetaData(object = seurat_object, metadata = percent.mito, col.name = \"percent.mito\")\n",
    "\n",
    "    # plotting qc metrics\n",
    "    pdf(\"Violin plot of Genes, UMI, mito percentage.pdf\")\n",
    "    VlnPlot(object = seurat_object, features.plot = c(\"nGene\", \"nUMI\", \"percent.mito\"), nCol = 3, do.return = T)\n",
    "    dev.off()\n",
    "    \n",
    "    # Plotting correlation between charasteristics\n",
    "    pdf(\"Feature correlation: nUMI vs percent.mito or nGene.pdf\")\n",
    "    par(mfrow = c(1, 2))\n",
    "    GenePlot(object = seurat_object, gene1 = \"nUMI\", gene2 = \"percent.mito\")\n",
    "    GenePlot(object = seurat_object, gene1 = \"nUMI\", gene2 = \"nGene\")\n",
    "    dev.off()\n",
    "    \n",
    "    \n",
    "    # filtering and normalisation\n",
    "    seurat_object <- FilterCells(object = seurat_object, subset.names = c(\"nGene\", \"percent.mito\"), \n",
    "        low.thresholds = c(200, -Inf), high.thresholds = c(2500, 0.05))\n",
    "    seurat_object <- NormalizeData(object = seurat_object, normalization.method = \"LogNormalize\", \n",
    "        scale.factor = 10000)\n",
    "    \n",
    "    \n",
    "    # plotting variable genes\n",
    "    pdf(\"Variable genes.pdf\")\n",
    "    seurat_object <- FindVariableGenes(object = seurat_object, mean.function = ExpMean, dispersion.function = LogVMR, \n",
    "        x.low.cutoff = 0.0125, x.high.cutoff = 3, y.cutoff = 0.5)\n",
    "    dev.off()\n",
    "    \n",
    "    \n",
    "    # scaling the data\n",
    "    seurat_object <- ScaleData(object = seurat_object, vars.to.regress = c(\"nUMI\", \"percent.mito\"))\n",
    "    \n",
    "    # saving the object\n",
    "    saveRDS(seurat_object,file=output)\n",
    "    return(1)\n",
    "}"
   ]
  },
  {
   "cell_type": "code",
   "execution_count": 22,
   "metadata": {
    "ExecuteTime": {
     "end_time": "2018-11-08T14:18:09.567067Z",
     "start_time": "2018-11-08T14:17:12.407Z"
    },
    "scrolled": true
   },
   "outputs": [
    {
     "name": "stderr",
     "output_type": "stream",
     "text": [
      "Regressing out: nUMI, percent.mito\n"
     ]
    },
    {
     "name": "stdout",
     "output_type": "stream",
     "text": [
      "\n",
      "Time Elapsed:  21.2420225143433 secs"
     ]
    },
    {
     "name": "stderr",
     "output_type": "stream",
     "text": [
      "Scaling data matrix\n"
     ]
    },
    {
     "data": {
      "text/html": [
       "1"
      ],
      "text/latex": [
       "1"
      ],
      "text/markdown": [
       "1"
      ],
      "text/plain": [
       "[1] 1"
      ]
     },
     "metadata": {},
     "output_type": "display_data"
    }
   ],
   "source": [
    "path = \"/home/jupyter/Notebooks/KIRC/HSIEH/data/\"\n",
    "normalisation_qc_seurat(path, state=\"10x\", output=\"seurat_normalised_object.rds\")"
   ]
  },
  {
   "cell_type": "code",
   "execution_count": 2,
   "metadata": {
    "ExecuteTime": {
     "end_time": "2018-11-13T18:28:51.393140Z",
     "start_time": "2018-11-13T18:28:51.282Z"
    }
   },
   "outputs": [],
   "source": [
    "normalisation_qc_f1000  <- function(file, runQuickCluster=T, output=\"sce_normalised_object.rds\"){\n",
    "    library(scater)\n",
    "    library(SingleCellExperiment)\n",
    "    library(scran)\n",
    "    \n",
    "    count_matrix = read.csv(file, row.names=1)\n",
    "    sce = SingleCellExperiment(assays=list(counts=as.matrix(count_matrix)))\n",
    "    \n",
    "    is.spike <- grepl(\"^ERCC\", rownames(sce))\n",
    "    is.mito <- grepl(\"^mt-\", rownames(sce))\n",
    "    \n",
    "    sce <- calculateQCMetrics(sce, feature_controls=list(ERCC=is.spike, Mt=is.mito))\n",
    "    head(colnames(colData(sce)))\n",
    "\n",
    "    pdf(\"Genes and library sizes statistics.pdf\")\n",
    "    par(mfrow=c(1,2))\n",
    "    hist(sce$total_counts/1e6, xlab=\"Library sizes (millions)\", main=\"\",\n",
    "         breaks=20, col=\"grey80\", ylab=\"Number of cells\")\n",
    "    hist(sce$total_features, xlab=\"Number of expressed genes\", main=\"\",\n",
    "         breaks=20, col=\"grey80\", ylab=\"Number of cells\")\n",
    "    dev.off()\n",
    "    \n",
    "    libsize.drop <- isOutlier(sce$total_counts, nmads=3, type=\"lower\", log=TRUE)\n",
    "    feature.drop <- isOutlier(sce$total_features, nmads=3, type=\"lower\", log=TRUE)\n",
    "\n",
    "    mito.drop <- isOutlier(sce$pct_counts_feature_controls_Mt, nmads=3, type=\"higher\")\n",
    "    spike.drop <- isOutlier(sce$pct_counts_feature_controls_ERCC, nmads=3, type=\"higher\")\n",
    "    \n",
    "    if(length(mito.drop) == 0) {\n",
    "        mito.drop = rep(FALSE, length(libsize.drop))\n",
    "    }\n",
    "\n",
    "    if(length(spike.drop) == 0) {\n",
    "        spike.drop = rep(FALSE, length(libsize.drop))\n",
    "    }\n",
    "    \n",
    "    sce <- sce[,!(libsize.drop | feature.drop | mito.drop | spike.drop)]\n",
    "    \n",
    "    ave.counts <- rowMeans(counts(sce))\n",
    "    keep <- ave.counts >= 1\n",
    "    \n",
    "    pdf(\"Average count number histogram.pdf\")\n",
    "    hist(log10(ave.counts), breaks=100, main=\"\", col=\"grey80\",\n",
    "         xlab=expression(Log[10]~\"average count\"))\n",
    "    abline(v=log10(1), col=\"blue\", lwd=2, lty=2)\n",
    "    dev.off()\n",
    "    \n",
    "    numcells <- nexprs(sce, byrow=TRUE)\n",
    "    alt.keep <- numcells >= 10\n",
    "\n",
    "    pdf(\"Smooth scatter distribution of expression by cells.pdf\")\n",
    "    smoothScatter(log10(ave.counts), numcells, xlab=expression(Log[10]~\"average count\"),\n",
    "         ylab=\"Number of expressing cells\")\n",
    "    dev.off()\n",
    "    \n",
    "    print(\"YA TUT\")\n",
    "    \n",
    "    # normalization\n",
    "    message(\"Running normalization. It can take a while, depends on the \n",
    "    number of cells.\")\n",
    "    if(runQuickCluster){\n",
    "        cl <- tryCatch(scran::quickCluster(sce), error=function(e) NULL)\n",
    "    } else {\n",
    "        cl <- NULL\n",
    "    }\n",
    "\n",
    "    print(\"compute sizeFactors which will be used for normalization\")\n",
    "                       \n",
    "    # compute sizeFactors which will be used for normalization\n",
    "    sceNorm <- scran::computeSumFactors(sce, sizes = sizes, clusters = cl)\n",
    "\n",
    "    message(\"summary(sizeFactors(sceObject)):\")\n",
    "    print(summary(sizeFactors(sceNorm)))\n",
    "    if(length(sizeFactors(sceNorm)[sizeFactors(sceNorm) <= 0]) > 0){\n",
    "        message(\"Cells with negative sizeFactors will be deleted before the \n",
    "    downstream analysis.\")\n",
    "    }\n",
    "    sceNorm <- sceNorm[, sizeFactors(sceNorm) > 0]\n",
    "    sceNorm <- scater::normalize(sceNorm)\n",
    "    rm(sce)\n",
    "                       \n",
    "    saveRDS(sceNorm,file=output)\n",
    "    return(1)\n",
    "}\n"
   ]
  },
  {
   "cell_type": "code",
   "execution_count": null,
   "metadata": {
    "ExecuteTime": {
     "start_time": "2018-11-13T18:29:21.145Z"
    },
    "scrolled": true
   },
   "outputs": [
    {
     "name": "stderr",
     "output_type": "stream",
     "text": [
      "Warning message in is.na(metric):\n",
      "“is.na() applied to non-(list or vector) of type 'NULL'”Warning message in is.na(x):\n",
      "“is.na() applied to non-(list or vector) of type 'NULL'”Warning message in is.na(x):\n",
      "“is.na() applied to non-(list or vector) of type 'NULL'”Warning message in max(min.diff, nmads * cur.mad, na.rm = TRUE):\n",
      "“no non-missing arguments to max; returning -Inf”Warning message in is.na(metric):\n",
      "“is.na() applied to non-(list or vector) of type 'NULL'”Warning message in is.na(x):\n",
      "“is.na() applied to non-(list or vector) of type 'NULL'”Warning message in is.na(x):\n",
      "“is.na() applied to non-(list or vector) of type 'NULL'”Warning message in max(min.diff, nmads * cur.mad, na.rm = TRUE):\n",
      "“no non-missing arguments to max; returning -Inf”"
     ]
    },
    {
     "name": "stdout",
     "output_type": "stream",
     "text": [
      "[1] \"YA TUT\"\n"
     ]
    },
    {
     "name": "stderr",
     "output_type": "stream",
     "text": [
      "Running normalization. It can take a while, depends on the \n",
      "    number of cells.\n"
     ]
    }
   ],
   "source": [
    "sce = normalisation_qc_f1000(\"test2.csv\")"
   ]
  },
  {
   "cell_type": "code",
   "execution_count": null,
   "metadata": {},
   "outputs": [],
   "source": []
  },
  {
   "cell_type": "code",
   "execution_count": null,
   "metadata": {},
   "outputs": [],
   "source": [
    "args = commandArgs(trailingOnly=TRUE)\n",
    "\n",
    "if(args[1] == \"1\"){\n",
    "    normalisation_qc_seurat(file=args[2], output=args[4])\n",
    "} else {\n",
    "    runQuickCluster = (args[3] == \"1\")\n",
    "    normalisation_qc_f1000(file=args[2], runQuickCluster=runQuickCluster, output=args[4]) \n",
    "}"
   ]
  },
  {
   "cell_type": "code",
   "execution_count": null,
   "metadata": {},
   "outputs": [],
   "source": []
  },
  {
   "cell_type": "code",
   "execution_count": 6,
   "metadata": {
    "ExecuteTime": {
     "end_time": "2018-11-14T10:12:40.751974Z",
     "start_time": "2018-11-14T10:12:39.906Z"
    }
   },
   "outputs": [],
   "source": [
    "?quickCluster"
   ]
  },
  {
   "cell_type": "code",
   "execution_count": null,
   "metadata": {},
   "outputs": [],
   "source": []
  }
 ],
 "metadata": {
  "kernelspec": {
   "display_name": "R",
   "language": "R",
   "name": "ir"
  },
  "language_info": {
   "codemirror_mode": "r",
   "file_extension": ".r",
   "mimetype": "text/x-r-source",
   "name": "R",
   "pygments_lexer": "r",
   "version": "3.5.1"
  },
  "toc": {
   "base_numbering": 1,
   "nav_menu": {},
   "number_sections": true,
   "sideBar": true,
   "skip_h1_title": false,
   "title_cell": "Table of Contents",
   "title_sidebar": "Contents",
   "toc_cell": false,
   "toc_position": {},
   "toc_section_display": true,
   "toc_window_display": false
  }
 },
 "nbformat": 4,
 "nbformat_minor": 2
}
