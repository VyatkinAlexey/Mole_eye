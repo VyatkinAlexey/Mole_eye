{
 "cells": [
  {
   "cell_type": "code",
   "execution_count": null,
   "metadata": {},
   "outputs": [],
   "source": [
    "library(\"scran\")\n",
    "library(\"Seurat\")"
   ]
  },
  {
   "cell_type": "code",
   "execution_count": null,
   "metadata": {},
   "outputs": [],
   "source": [
    "path=\"/home/churkreev_group/vyatkin/data/E_65_85/EmbryoTimecourse2018/download/atlas\"\n",
    "raw_counts_6_8 = Read10X(path)"
   ]
  },
  {
   "cell_type": "code",
   "execution_count": null,
   "metadata": {},
   "outputs": [],
   "source": [
    "print(length(rownames(raw_counts_6_8)))"
   ]
  },
  {
   "cell_type": "code",
   "execution_count": null,
   "metadata": {},
   "outputs": [],
   "source": [
    "print(length(colnames(raw_counts_6_8)))"
   ]
  },
  {
   "cell_type": "code",
   "execution_count": null,
   "metadata": {},
   "outputs": [],
   "source": [
    "size_factors = scan(\"/home/churkreev_group/vyatkin/data/E_65_85/EmbryoTimecourse2018/download/atlas/sizefactors.tab\")"
   ]
  },
  {
   "cell_type": "code",
   "execution_count": null,
   "metadata": {},
   "outputs": [],
   "source": [
    "normalized_counts = raw_counts_6_8/size_factors"
   ]
  },
  {
   "cell_type": "code",
   "execution_count": null,
   "metadata": {},
   "outputs": [],
   "source": [
    "rownames(normalized_counts)[1:6]"
   ]
  },
  {
   "cell_type": "code",
   "execution_count": null,
   "metadata": {},
   "outputs": [],
   "source": [
    "colnames(normalized_counts)[5:10]"
   ]
  },
  {
   "cell_type": "markdown",
   "metadata": {},
   "source": [
    "## Ну как записать эту матрицу в файл? каааак?"
   ]
  },
  {
   "cell_type": "code",
   "execution_count": null,
   "metadata": {},
   "outputs": [],
   "source": [
    "library(DropletUtils)"
   ]
  },
  {
   "cell_type": "code",
   "execution_count": null,
   "metadata": {},
   "outputs": [],
   "source": [
    "library(Matrix)"
   ]
  },
  {
   "cell_type": "code",
   "execution_count": null,
   "metadata": {},
   "outputs": [],
   "source": [
    "dir_to_write = \"/home/churkreev_group/vyatkin/data/E_65_85/EmbryoTimecourse2018/download/atlas_norm\"\n",
    "genes_path = \"/home/churkreev_group/vyatkin/data/E_65_85/EmbryoTimecourse2018/download/atlas/genes.tsv\"\n",
    "genes = read.table(file = genes_path, sep = '\\t')\n",
    "gene.ids = genes[,1]\n",
    "gene.symb = genes[,2]\n",
    "cell.ids = colnames(normalized_counts)\n",
    "ngenes = nrow(normalized_counts)"
   ]
  },
  {
   "cell_type": "markdown",
   "metadata": {},
   "source": [
    "# С богом"
   ]
  },
  {
   "cell_type": "code",
   "execution_count": null,
   "metadata": {},
   "outputs": [],
   "source": [
    "write10xCounts(dir_to_write, normalized_counts, gene.id=gene.ids, gene.symbol=gene.symb, barcodes=cell.ids)"
   ]
  },
  {
   "cell_type": "code",
   "execution_count": null,
   "metadata": {},
   "outputs": [],
   "source": []
  },
  {
   "cell_type": "code",
   "execution_count": null,
   "metadata": {},
   "outputs": [],
   "source": [
    "N = nrow(normalized_counts)\n",
    "M = ncol(normalized_counts)"
   ]
  },
  {
   "cell_type": "code",
   "execution_count": null,
   "metadata": {},
   "outputs": [],
   "source": [
    "m=rbind(c(\"gene\", \"cell\", \"count\"))"
   ]
  },
  {
   "cell_type": "code",
   "execution_count": null,
   "metadata": {},
   "outputs": [],
   "source": [
    "a = matrix(ncol = 3)"
   ]
  },
  {
   "cell_type": "code",
   "execution_count": null,
   "metadata": {},
   "outputs": [],
   "source": [
    "colnames(a) = c(\"gene\", \"cell\", \"count\")"
   ]
  },
  {
   "cell_type": "code",
   "execution_count": null,
   "metadata": {},
   "outputs": [],
   "source": [
    "for (gene_index in 1:N){\n",
    "    for (cell_index in 1:M){\n",
    "        if (normalized_counts[gene_index, cell_index] != 0){\n",
    "            a = rbind(a, c(gene_index, cell_index, normalized_counts[gene_index, cell_index]))\n",
    "        }\n",
    "    }\n",
    "}"
   ]
  },
  {
   "cell_type": "code",
   "execution_count": null,
   "metadata": {},
   "outputs": [],
   "source": [
    "write.table(a, file=\"/home/churkreev_group/vyatkin/data/E_65_85/EmbryoTimecourse2018/download/atlas/normalized_counts.txt\", \n",
    "            row.names=FALSE, col.names=colnames(a))"
   ]
  },
  {
   "cell_type": "code",
   "execution_count": null,
   "metadata": {},
   "outputs": [],
   "source": [
    "ReadRDS"
   ]
  }
 ],
 "metadata": {
  "kernelspec": {
   "display_name": "R",
   "language": "R",
   "name": "ir"
  },
  "language_info": {
   "codemirror_mode": "r",
   "file_extension": ".r",
   "mimetype": "text/x-r-source",
   "name": "R",
   "pygments_lexer": "r",
   "version": "3.5.1"
  }
 },
 "nbformat": 4,
 "nbformat_minor": 2
}
